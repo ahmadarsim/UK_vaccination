{
 "cells": [
  {
   "cell_type": "markdown",
   "id": "dbdaad36",
   "metadata": {},
   "source": [
    "## Task steps"
   ]
  },
  {
   "cell_type": "markdown",
   "id": "87f03d97",
   "metadata": {},
   "source": [
    "UK Vaccinations Dataset\n",
    "This data contains information about the numbers of people who took first, second and third doses of the COVID-19 vaccination in different regions of the UK. The data is compiled from the UK government’s Coronavirus Vaccinations page and covers a period of time from earlier 2021 to mid 2022. The attached \"UK_VaccinationsData.xlsx\" file contains both the data (first worksheet named ‘data’) and descriptions of the data variables (second worksheet named ‘variables' descriptions’)\n",
    "Steps of the EDA\n",
    "The EDA project should include the following analysis steps in their sequence:\n",
    "1. Generate descriptive statistics of the dataset variables, and comment on main trends.\n",
    "2. Check any records with missing values, and handle the missing data as appropriate.\n",
    "3. Plot the distribution of one or more individual continuous variables and provide comments\n",
    "4. Build graphs visualizing the association b/w two numeric variables and interpret them.\n",
    "5. Visualise the relationship b/w a categorical and a numeric variables, provide comments.\n",
    "6. Build a contingency table of two potentially related categorical variables, then conduct a statistical test of the independence between them and interpret the results.\n",
    "7. Retrieve one or more subset of rows based on two or more criteria and present descriptive statistics on the subset(s).\n",
    "8. Conduct a statistical test of the significance of the difference between the means of two subsets of the data and interpret the results.\n",
    "9. Create one or more tables that group the data by a certain categorical variable and display summarized information for each group (e.g. the mean or sum within the group).\n",
    "10. Implement a linear regression model and interpret its outputs."
   ]
  },
  {
   "cell_type": "markdown",
   "id": "2bb27355",
   "metadata": {},
   "source": [
    "### import Libraries "
   ]
  },
  {
   "cell_type": "code",
   "execution_count": 1,
   "id": "b3cb0131",
   "metadata": {},
   "outputs": [],
   "source": [
    "import numpy as np\n",
    "import pandas as pd \n",
    "import seaborn as sns \n",
    "import matplotlib.pyplot as plt\n"
   ]
  },
  {
   "cell_type": "code",
   "execution_count": 2,
   "id": "9ed73c6a",
   "metadata": {},
   "outputs": [],
   "source": [
    "data = pd.read_excel('C:/Users/User/Desktop/UK Vaccinations/UK_VaccinationsData (1).xlsx')"
   ]
  },
  {
   "cell_type": "code",
   "execution_count": 3,
   "id": "720e5779",
   "metadata": {},
   "outputs": [
    {
     "data": {
      "text/html": [
       "<div>\n",
       "<style scoped>\n",
       "    .dataframe tbody tr th:only-of-type {\n",
       "        vertical-align: middle;\n",
       "    }\n",
       "\n",
       "    .dataframe tbody tr th {\n",
       "        vertical-align: top;\n",
       "    }\n",
       "\n",
       "    .dataframe thead th {\n",
       "        text-align: right;\n",
       "    }\n",
       "</style>\n",
       "<table border=\"1\" class=\"dataframe\">\n",
       "  <thead>\n",
       "    <tr style=\"text-align: right;\">\n",
       "      <th></th>\n",
       "      <th>areaName</th>\n",
       "      <th>areaCode</th>\n",
       "      <th>year</th>\n",
       "      <th>month</th>\n",
       "      <th>Quarter</th>\n",
       "      <th>day</th>\n",
       "      <th>WorkingDay</th>\n",
       "      <th>FirstDose</th>\n",
       "      <th>SecondDose</th>\n",
       "      <th>ThirdDose</th>\n",
       "    </tr>\n",
       "  </thead>\n",
       "  <tbody>\n",
       "    <tr>\n",
       "      <th>0</th>\n",
       "      <td>England</td>\n",
       "      <td>E92000001</td>\n",
       "      <td>2022.0</td>\n",
       "      <td>5</td>\n",
       "      <td>Q2</td>\n",
       "      <td>Mon</td>\n",
       "      <td>Yes</td>\n",
       "      <td>3034.0</td>\n",
       "      <td>3857.0</td>\n",
       "      <td>8747.0</td>\n",
       "    </tr>\n",
       "    <tr>\n",
       "      <th>1</th>\n",
       "      <td>England</td>\n",
       "      <td>E92000001</td>\n",
       "      <td>2022.0</td>\n",
       "      <td>5</td>\n",
       "      <td>Q2</td>\n",
       "      <td>Sun</td>\n",
       "      <td>No</td>\n",
       "      <td>5331.0</td>\n",
       "      <td>3330.0</td>\n",
       "      <td>4767.0</td>\n",
       "    </tr>\n",
       "    <tr>\n",
       "      <th>2</th>\n",
       "      <td>England</td>\n",
       "      <td>E92000001</td>\n",
       "      <td>2022.0</td>\n",
       "      <td>5</td>\n",
       "      <td>Q2</td>\n",
       "      <td>Sat</td>\n",
       "      <td>No</td>\n",
       "      <td>13852.0</td>\n",
       "      <td>9759.0</td>\n",
       "      <td>12335.0</td>\n",
       "    </tr>\n",
       "    <tr>\n",
       "      <th>3</th>\n",
       "      <td>England</td>\n",
       "      <td>E92000001</td>\n",
       "      <td>2022.0</td>\n",
       "      <td>5</td>\n",
       "      <td>Q2</td>\n",
       "      <td>Fri</td>\n",
       "      <td>Yes</td>\n",
       "      <td>5818.0</td>\n",
       "      <td>5529.0</td>\n",
       "      <td>10692.0</td>\n",
       "    </tr>\n",
       "    <tr>\n",
       "      <th>4</th>\n",
       "      <td>England</td>\n",
       "      <td>E92000001</td>\n",
       "      <td>2022.0</td>\n",
       "      <td>5</td>\n",
       "      <td>Q2</td>\n",
       "      <td>Thu</td>\n",
       "      <td>Yes</td>\n",
       "      <td>8439.0</td>\n",
       "      <td>6968.0</td>\n",
       "      <td>11701.0</td>\n",
       "    </tr>\n",
       "    <tr>\n",
       "      <th>...</th>\n",
       "      <td>...</td>\n",
       "      <td>...</td>\n",
       "      <td>...</td>\n",
       "      <td>...</td>\n",
       "      <td>...</td>\n",
       "      <td>...</td>\n",
       "      <td>...</td>\n",
       "      <td>...</td>\n",
       "      <td>...</td>\n",
       "      <td>...</td>\n",
       "    </tr>\n",
       "    <tr>\n",
       "      <th>899</th>\n",
       "      <td>Wales</td>\n",
       "      <td>W92000004</td>\n",
       "      <td>2021.0</td>\n",
       "      <td>10</td>\n",
       "      <td>Q4</td>\n",
       "      <td>Mon</td>\n",
       "      <td>Yes</td>\n",
       "      <td>3266.0</td>\n",
       "      <td>528.0</td>\n",
       "      <td>22390.0</td>\n",
       "    </tr>\n",
       "    <tr>\n",
       "      <th>900</th>\n",
       "      <td>Wales</td>\n",
       "      <td>W92000004</td>\n",
       "      <td>2021.0</td>\n",
       "      <td>10</td>\n",
       "      <td>Q4</td>\n",
       "      <td>Sun</td>\n",
       "      <td>No</td>\n",
       "      <td>2831.0</td>\n",
       "      <td>322.0</td>\n",
       "      <td>6546.0</td>\n",
       "    </tr>\n",
       "    <tr>\n",
       "      <th>901</th>\n",
       "      <td>Wales</td>\n",
       "      <td>W92000004</td>\n",
       "      <td>2021.0</td>\n",
       "      <td>10</td>\n",
       "      <td>Q4</td>\n",
       "      <td>Sat</td>\n",
       "      <td>No</td>\n",
       "      <td>3921.0</td>\n",
       "      <td>439.0</td>\n",
       "      <td>10787.0</td>\n",
       "    </tr>\n",
       "    <tr>\n",
       "      <th>902</th>\n",
       "      <td>Wales</td>\n",
       "      <td>W92000004</td>\n",
       "      <td>2021.0</td>\n",
       "      <td>10</td>\n",
       "      <td>Q4</td>\n",
       "      <td>Fri</td>\n",
       "      <td>Yes</td>\n",
       "      <td>1238.0</td>\n",
       "      <td>717.0</td>\n",
       "      <td>18583.0</td>\n",
       "    </tr>\n",
       "    <tr>\n",
       "      <th>903</th>\n",
       "      <td>Wales</td>\n",
       "      <td>W92000004</td>\n",
       "      <td>2021.0</td>\n",
       "      <td>10</td>\n",
       "      <td>Q4</td>\n",
       "      <td>Thu</td>\n",
       "      <td>Yes</td>\n",
       "      <td>1142.0</td>\n",
       "      <td>696.0</td>\n",
       "      <td>NaN</td>\n",
       "    </tr>\n",
       "  </tbody>\n",
       "</table>\n",
       "<p>904 rows × 10 columns</p>\n",
       "</div>"
      ],
      "text/plain": [
       "    areaName   areaCode    year  month Quarter  day WorkingDay  FirstDose  \\\n",
       "0    England  E92000001  2022.0      5      Q2  Mon        Yes     3034.0   \n",
       "1    England  E92000001  2022.0      5      Q2  Sun         No     5331.0   \n",
       "2    England  E92000001  2022.0      5      Q2  Sat         No    13852.0   \n",
       "3    England  E92000001  2022.0      5      Q2  Fri        Yes     5818.0   \n",
       "4    England  E92000001  2022.0      5      Q2  Thu        Yes     8439.0   \n",
       "..       ...        ...     ...    ...     ...  ...        ...        ...   \n",
       "899    Wales  W92000004  2021.0     10      Q4  Mon        Yes     3266.0   \n",
       "900    Wales  W92000004  2021.0     10      Q4  Sun         No     2831.0   \n",
       "901    Wales  W92000004  2021.0     10      Q4  Sat         No     3921.0   \n",
       "902    Wales  W92000004  2021.0     10      Q4  Fri        Yes     1238.0   \n",
       "903    Wales  W92000004  2021.0     10      Q4  Thu        Yes     1142.0   \n",
       "\n",
       "     SecondDose  ThirdDose  \n",
       "0        3857.0     8747.0  \n",
       "1        3330.0     4767.0  \n",
       "2        9759.0    12335.0  \n",
       "3        5529.0    10692.0  \n",
       "4        6968.0    11701.0  \n",
       "..          ...        ...  \n",
       "899       528.0    22390.0  \n",
       "900       322.0     6546.0  \n",
       "901       439.0    10787.0  \n",
       "902       717.0    18583.0  \n",
       "903       696.0        NaN  \n",
       "\n",
       "[904 rows x 10 columns]"
      ]
     },
     "execution_count": 3,
     "metadata": {},
     "output_type": "execute_result"
    }
   ],
   "source": [
    "data "
   ]
  },
  {
   "cell_type": "code",
   "execution_count": 4,
   "id": "d5e762db",
   "metadata": {},
   "outputs": [
    {
     "name": "stdout",
     "output_type": "stream",
     "text": [
      "<class 'pandas.core.frame.DataFrame'>\n",
      "RangeIndex: 904 entries, 0 to 903\n",
      "Data columns (total 10 columns):\n",
      " #   Column      Non-Null Count  Dtype  \n",
      "---  ------      --------------  -----  \n",
      " 0   areaName    904 non-null    object \n",
      " 1   areaCode    904 non-null    object \n",
      " 2   year        903 non-null    float64\n",
      " 3   month       904 non-null    int64  \n",
      " 4   Quarter     903 non-null    object \n",
      " 5   day         903 non-null    object \n",
      " 6   WorkingDay  902 non-null    object \n",
      " 7   FirstDose   900 non-null    float64\n",
      " 8   SecondDose  901 non-null    float64\n",
      " 9   ThirdDose   898 non-null    float64\n",
      "dtypes: float64(4), int64(1), object(5)\n",
      "memory usage: 70.8+ KB\n"
     ]
    }
   ],
   "source": [
    "data.info()"
   ]
  },
  {
   "cell_type": "code",
   "execution_count": 5,
   "id": "96113141",
   "metadata": {},
   "outputs": [
    {
     "data": {
      "text/plain": [
       "(904, 10)"
      ]
     },
     "execution_count": 5,
     "metadata": {},
     "output_type": "execute_result"
    }
   ],
   "source": [
    "data.shape"
   ]
  },
  {
   "cell_type": "markdown",
   "id": "6bb4d5ac",
   "metadata": {},
   "source": [
    "### Q1 Generate descriptive statistics , and comment on main trends"
   ]
  },
  {
   "cell_type": "code",
   "execution_count": 6,
   "id": "a8b20673",
   "metadata": {},
   "outputs": [
    {
     "data": {
      "text/html": [
       "<div>\n",
       "<style scoped>\n",
       "    .dataframe tbody tr th:only-of-type {\n",
       "        vertical-align: middle;\n",
       "    }\n",
       "\n",
       "    .dataframe tbody tr th {\n",
       "        vertical-align: top;\n",
       "    }\n",
       "\n",
       "    .dataframe thead th {\n",
       "        text-align: right;\n",
       "    }\n",
       "</style>\n",
       "<table border=\"1\" class=\"dataframe\">\n",
       "  <thead>\n",
       "    <tr style=\"text-align: right;\">\n",
       "      <th></th>\n",
       "      <th>year</th>\n",
       "      <th>month</th>\n",
       "      <th>FirstDose</th>\n",
       "      <th>SecondDose</th>\n",
       "      <th>ThirdDose</th>\n",
       "    </tr>\n",
       "  </thead>\n",
       "  <tbody>\n",
       "    <tr>\n",
       "      <th>count</th>\n",
       "      <td>903.000000</td>\n",
       "      <td>904.000000</td>\n",
       "      <td>900.000000</td>\n",
       "      <td>901.000000</td>\n",
       "      <td>898.000000</td>\n",
       "    </tr>\n",
       "    <tr>\n",
       "      <th>mean</th>\n",
       "      <td>2021.625692</td>\n",
       "      <td>5.946903</td>\n",
       "      <td>4994.323333</td>\n",
       "      <td>5574.125416</td>\n",
       "      <td>42529.570156</td>\n",
       "    </tr>\n",
       "    <tr>\n",
       "      <th>std</th>\n",
       "      <td>0.484212</td>\n",
       "      <td>4.146467</td>\n",
       "      <td>9651.335670</td>\n",
       "      <td>9174.101390</td>\n",
       "      <td>104877.579915</td>\n",
       "    </tr>\n",
       "    <tr>\n",
       "      <th>min</th>\n",
       "      <td>2021.000000</td>\n",
       "      <td>1.000000</td>\n",
       "      <td>0.000000</td>\n",
       "      <td>0.000000</td>\n",
       "      <td>0.000000</td>\n",
       "    </tr>\n",
       "    <tr>\n",
       "      <th>25%</th>\n",
       "      <td>2021.000000</td>\n",
       "      <td>2.000000</td>\n",
       "      <td>338.500000</td>\n",
       "      <td>478.000000</td>\n",
       "      <td>1313.500000</td>\n",
       "    </tr>\n",
       "    <tr>\n",
       "      <th>50%</th>\n",
       "      <td>2022.000000</td>\n",
       "      <td>4.000000</td>\n",
       "      <td>876.500000</td>\n",
       "      <td>971.000000</td>\n",
       "      <td>6992.000000</td>\n",
       "    </tr>\n",
       "    <tr>\n",
       "      <th>75%</th>\n",
       "      <td>2022.000000</td>\n",
       "      <td>11.000000</td>\n",
       "      <td>3653.250000</td>\n",
       "      <td>5770.000000</td>\n",
       "      <td>23464.750000</td>\n",
       "    </tr>\n",
       "    <tr>\n",
       "      <th>max</th>\n",
       "      <td>2022.000000</td>\n",
       "      <td>12.000000</td>\n",
       "      <td>115551.000000</td>\n",
       "      <td>48491.000000</td>\n",
       "      <td>830403.000000</td>\n",
       "    </tr>\n",
       "  </tbody>\n",
       "</table>\n",
       "</div>"
      ],
      "text/plain": [
       "              year       month      FirstDose    SecondDose      ThirdDose\n",
       "count   903.000000  904.000000     900.000000    901.000000     898.000000\n",
       "mean   2021.625692    5.946903    4994.323333   5574.125416   42529.570156\n",
       "std       0.484212    4.146467    9651.335670   9174.101390  104877.579915\n",
       "min    2021.000000    1.000000       0.000000      0.000000       0.000000\n",
       "25%    2021.000000    2.000000     338.500000    478.000000    1313.500000\n",
       "50%    2022.000000    4.000000     876.500000    971.000000    6992.000000\n",
       "75%    2022.000000   11.000000    3653.250000   5770.000000   23464.750000\n",
       "max    2022.000000   12.000000  115551.000000  48491.000000  830403.000000"
      ]
     },
     "execution_count": 6,
     "metadata": {},
     "output_type": "execute_result"
    }
   ],
   "source": [
    "data.describe()"
   ]
  },
  {
   "cell_type": "code",
   "execution_count": 7,
   "id": "d773000c",
   "metadata": {},
   "outputs": [],
   "source": [
    "# From the summary statistics, we can see that the total number of first and the number of second and third doses administered have increased steadily over time. The mean age of individuals receiving vaccinations has also increased slightly over time.\n"
   ]
  },
  {
   "cell_type": "markdown",
   "id": "a4e3d6a5",
   "metadata": {},
   "source": [
    "### Q2 Check missing values, and handle the missing data."
   ]
  },
  {
   "cell_type": "code",
   "execution_count": 8,
   "id": "e6a964b3",
   "metadata": {},
   "outputs": [
    {
     "data": {
      "text/plain": [
       "areaName      0\n",
       "areaCode      0\n",
       "year          1\n",
       "month         0\n",
       "Quarter       1\n",
       "day           1\n",
       "WorkingDay    2\n",
       "FirstDose     4\n",
       "SecondDose    3\n",
       "ThirdDose     6\n",
       "dtype: int64"
      ]
     },
     "execution_count": 8,
     "metadata": {},
     "output_type": "execute_result"
    }
   ],
   "source": [
    "data.isnull().sum()"
   ]
  },
  {
   "cell_type": "code",
   "execution_count": 9,
   "id": "11a826c5",
   "metadata": {},
   "outputs": [],
   "source": [
    "# Missed value column"
   ]
  },
  {
   "cell_type": "code",
   "execution_count": 10,
   "id": "25bc945f",
   "metadata": {},
   "outputs": [
    {
     "data": {
      "text/html": [
       "<div>\n",
       "<style scoped>\n",
       "    .dataframe tbody tr th:only-of-type {\n",
       "        vertical-align: middle;\n",
       "    }\n",
       "\n",
       "    .dataframe tbody tr th {\n",
       "        vertical-align: top;\n",
       "    }\n",
       "\n",
       "    .dataframe thead th {\n",
       "        text-align: right;\n",
       "    }\n",
       "</style>\n",
       "<table border=\"1\" class=\"dataframe\">\n",
       "  <thead>\n",
       "    <tr style=\"text-align: right;\">\n",
       "      <th></th>\n",
       "      <th>year</th>\n",
       "      <th>Quarter</th>\n",
       "      <th>day</th>\n",
       "      <th>WorkingDay</th>\n",
       "      <th>FirstDose</th>\n",
       "      <th>SecondDose</th>\n",
       "      <th>ThirdDose</th>\n",
       "    </tr>\n",
       "  </thead>\n",
       "  <tbody>\n",
       "    <tr>\n",
       "      <th>0</th>\n",
       "      <td>2022.0</td>\n",
       "      <td>Q2</td>\n",
       "      <td>Mon</td>\n",
       "      <td>Yes</td>\n",
       "      <td>3034.0</td>\n",
       "      <td>3857.0</td>\n",
       "      <td>8747.0</td>\n",
       "    </tr>\n",
       "    <tr>\n",
       "      <th>1</th>\n",
       "      <td>2022.0</td>\n",
       "      <td>Q2</td>\n",
       "      <td>Sun</td>\n",
       "      <td>No</td>\n",
       "      <td>5331.0</td>\n",
       "      <td>3330.0</td>\n",
       "      <td>4767.0</td>\n",
       "    </tr>\n",
       "    <tr>\n",
       "      <th>2</th>\n",
       "      <td>2022.0</td>\n",
       "      <td>Q2</td>\n",
       "      <td>Sat</td>\n",
       "      <td>No</td>\n",
       "      <td>13852.0</td>\n",
       "      <td>9759.0</td>\n",
       "      <td>12335.0</td>\n",
       "    </tr>\n",
       "    <tr>\n",
       "      <th>3</th>\n",
       "      <td>2022.0</td>\n",
       "      <td>Q2</td>\n",
       "      <td>Fri</td>\n",
       "      <td>Yes</td>\n",
       "      <td>5818.0</td>\n",
       "      <td>5529.0</td>\n",
       "      <td>10692.0</td>\n",
       "    </tr>\n",
       "    <tr>\n",
       "      <th>4</th>\n",
       "      <td>2022.0</td>\n",
       "      <td>Q2</td>\n",
       "      <td>Thu</td>\n",
       "      <td>Yes</td>\n",
       "      <td>8439.0</td>\n",
       "      <td>6968.0</td>\n",
       "      <td>11701.0</td>\n",
       "    </tr>\n",
       "    <tr>\n",
       "      <th>...</th>\n",
       "      <td>...</td>\n",
       "      <td>...</td>\n",
       "      <td>...</td>\n",
       "      <td>...</td>\n",
       "      <td>...</td>\n",
       "      <td>...</td>\n",
       "      <td>...</td>\n",
       "    </tr>\n",
       "    <tr>\n",
       "      <th>899</th>\n",
       "      <td>2021.0</td>\n",
       "      <td>Q4</td>\n",
       "      <td>Mon</td>\n",
       "      <td>Yes</td>\n",
       "      <td>3266.0</td>\n",
       "      <td>528.0</td>\n",
       "      <td>22390.0</td>\n",
       "    </tr>\n",
       "    <tr>\n",
       "      <th>900</th>\n",
       "      <td>2021.0</td>\n",
       "      <td>Q4</td>\n",
       "      <td>Sun</td>\n",
       "      <td>No</td>\n",
       "      <td>2831.0</td>\n",
       "      <td>322.0</td>\n",
       "      <td>6546.0</td>\n",
       "    </tr>\n",
       "    <tr>\n",
       "      <th>901</th>\n",
       "      <td>2021.0</td>\n",
       "      <td>Q4</td>\n",
       "      <td>Sat</td>\n",
       "      <td>No</td>\n",
       "      <td>3921.0</td>\n",
       "      <td>439.0</td>\n",
       "      <td>10787.0</td>\n",
       "    </tr>\n",
       "    <tr>\n",
       "      <th>902</th>\n",
       "      <td>2021.0</td>\n",
       "      <td>Q4</td>\n",
       "      <td>Fri</td>\n",
       "      <td>Yes</td>\n",
       "      <td>1238.0</td>\n",
       "      <td>717.0</td>\n",
       "      <td>18583.0</td>\n",
       "    </tr>\n",
       "    <tr>\n",
       "      <th>903</th>\n",
       "      <td>2021.0</td>\n",
       "      <td>Q4</td>\n",
       "      <td>Thu</td>\n",
       "      <td>Yes</td>\n",
       "      <td>1142.0</td>\n",
       "      <td>696.0</td>\n",
       "      <td>NaN</td>\n",
       "    </tr>\n",
       "  </tbody>\n",
       "</table>\n",
       "<p>904 rows × 7 columns</p>\n",
       "</div>"
      ],
      "text/plain": [
       "       year Quarter  day WorkingDay  FirstDose  SecondDose  ThirdDose\n",
       "0    2022.0      Q2  Mon        Yes     3034.0      3857.0     8747.0\n",
       "1    2022.0      Q2  Sun         No     5331.0      3330.0     4767.0\n",
       "2    2022.0      Q2  Sat         No    13852.0      9759.0    12335.0\n",
       "3    2022.0      Q2  Fri        Yes     5818.0      5529.0    10692.0\n",
       "4    2022.0      Q2  Thu        Yes     8439.0      6968.0    11701.0\n",
       "..      ...     ...  ...        ...        ...         ...        ...\n",
       "899  2021.0      Q4  Mon        Yes     3266.0       528.0    22390.0\n",
       "900  2021.0      Q4  Sun         No     2831.0       322.0     6546.0\n",
       "901  2021.0      Q4  Sat         No     3921.0       439.0    10787.0\n",
       "902  2021.0      Q4  Fri        Yes     1238.0       717.0    18583.0\n",
       "903  2021.0      Q4  Thu        Yes     1142.0       696.0        NaN\n",
       "\n",
       "[904 rows x 7 columns]"
      ]
     },
     "execution_count": 10,
     "metadata": {},
     "output_type": "execute_result"
    }
   ],
   "source": [
    "data[['year','Quarter','day','WorkingDay','FirstDose','SecondDose','ThirdDose']]"
   ]
  },
  {
   "cell_type": "code",
   "execution_count": 11,
   "id": "d1edb940",
   "metadata": {},
   "outputs": [],
   "source": [
    "# heatmap before remove missing value"
   ]
  },
  {
   "cell_type": "code",
   "execution_count": 12,
   "id": "d95df121",
   "metadata": {},
   "outputs": [
    {
     "data": {
      "text/plain": [
       "<AxesSubplot:>"
      ]
     },
     "execution_count": 12,
     "metadata": {},
     "output_type": "execute_result"
    },
    {
     "data": {
      "image/png": "[encoded data removed]",
      "text/plain": [
       "<Figure size 432x288 with 2 Axes>"
      ]
     },
     "metadata": {
      "needs_background": "light"
     },
     "output_type": "display_data"
    }
   ],
   "source": [
    "sns.heatmap(data.isnull())"
   ]
  },
  {
   "cell_type": "code",
   "execution_count": 13,
   "id": "e55eeff9",
   "metadata": {},
   "outputs": [],
   "source": [
    "#very small value is missing so we can remove it from data "
   ]
  },
  {
   "cell_type": "code",
   "execution_count": 14,
   "id": "f249cdca",
   "metadata": {},
   "outputs": [],
   "source": [
    "data.dropna(inplace=True)"
   ]
  },
  {
   "cell_type": "code",
   "execution_count": 15,
   "id": "84cdc0da",
   "metadata": {},
   "outputs": [],
   "source": [
    "# heatmap after removing missing value "
   ]
  },
  {
   "cell_type": "code",
   "execution_count": 16,
   "id": "cadc781f",
   "metadata": {},
   "outputs": [
    {
     "data": {
      "text/plain": [
       "<AxesSubplot:>"
      ]
     },
     "execution_count": 16,
     "metadata": {},
     "output_type": "execute_result"
    },
    {
     "data": {
      "image/png": "[encoded data removed]",
      "text/plain": [
       "<Figure size 432x288 with 2 Axes>"
      ]
     },
     "metadata": {
      "needs_background": "light"
     },
     "output_type": "display_data"
    }
   ],
   "source": [
    "sns.heatmap(data.isnull())"
   ]
  },
  {
   "cell_type": "markdown",
   "id": "dfecf83a",
   "metadata": {},
   "source": [
    "### Q3 Plot the distribution of one or more individual continuous variables and provide comments"
   ]
  },
  {
   "cell_type": "code",
   "execution_count": 17,
   "id": "f81d88f6",
   "metadata": {},
   "outputs": [
    {
     "data": {
      "image/png": "[encoded data removed]",
      "text/plain": [
       "<Figure size 432x288 with 1 Axes>"
      ]
     },
     "metadata": {
      "needs_background": "light"
     },
     "output_type": "display_data"
    }
   ],
   "source": [
    "sns.histplot(data['FirstDose'], bins=20)\n",
    "plt.title('Distribution of People who took the First Dose')\n",
    "plt.xlabel('Number of People got first dose')\n",
    "plt.show()\n",
    "\n"
   ]
  },
  {
   "cell_type": "code",
   "execution_count": 18,
   "id": "8ddb1837",
   "metadata": {},
   "outputs": [],
   "source": [
    "# The distribution is right-skewed, indicating that lower number of people who took the first dose."
   ]
  },
  {
   "cell_type": "code",
   "execution_count": 19,
   "id": "a1306d58",
   "metadata": {},
   "outputs": [
    {
     "data": {
      "image/png": "[encoded data removed]",
      "text/plain": [
       "<Figure size 432x288 with 1 Axes>"
      ]
     },
     "metadata": {
      "needs_background": "light"
     },
     "output_type": "display_data"
    }
   ],
   "source": [
    "sns.histplot(data['SecondDose'], bins=20)\n",
    "plt.title('Distribution of People who took the Second Dose')\n",
    "plt.xlabel('Number of People got second dose')\n",
    "plt.show()\n",
    "\n",
    "\n"
   ]
  },
  {
   "cell_type": "code",
   "execution_count": 20,
   "id": "c088fbc6",
   "metadata": {},
   "outputs": [],
   "source": [
    "# The distribution of second doses is similar to the distribution of first doses, but with a slightly higher peak and a longer tail"
   ]
  },
  {
   "cell_type": "code",
   "execution_count": 21,
   "id": "11e02d6f",
   "metadata": {},
   "outputs": [
    {
     "data": {
      "image/png": "[encoded data removed]",
      "text/plain": [
       "<Figure size 432x288 with 1 Axes>"
      ]
     },
     "metadata": {
      "needs_background": "light"
     },
     "output_type": "display_data"
    }
   ],
   "source": [
    "sns.histplot(data['ThirdDose'], bins=20)\n",
    "plt.title('Distribution of People who took the First Dose')\n",
    "plt.xlabel('Number of People Vaccinated')\n",
    "plt.show()\n",
    "\n",
    "\n"
   ]
  },
  {
   "cell_type": "code",
   "execution_count": 22,
   "id": "b07f90e2",
   "metadata": {},
   "outputs": [],
   "source": [
    "# The distribution of third dose shows the moderate number of people got third doses."
   ]
  },
  {
   "cell_type": "markdown",
   "id": "bdf8eb55",
   "metadata": {},
   "source": [
    "### Q4 Build Scatter visualizing the association b/w two numeric variables and interpret them."
   ]
  },
  {
   "cell_type": "code",
   "execution_count": 23,
   "id": "80f22780",
   "metadata": {},
   "outputs": [],
   "source": [
    "# Create a scatter plot of First Dose vs. Second Dose"
   ]
  },
  {
   "cell_type": "code",
   "execution_count": 24,
   "id": "665164fe",
   "metadata": {},
   "outputs": [
    {
     "data": {
      "image/png": "[encoded data removed]",
      "text/plain": [
       "<Figure size 432x288 with 1 Axes>"
      ]
     },
     "metadata": {
      "needs_background": "light"
     },
     "output_type": "display_data"
    }
   ],
   "source": [
    "plt.scatter(data['FirstDose'], data['SecondDose'])\n",
    "\n",
    "# Set the plot title and axis labels\n",
    "plt.xlabel('First Doses')\n",
    "plt.ylabel('Second Doses')\n",
    "\n",
    "plt.title('First Doses vs. Second Doses')\n",
    "\n",
    "# Show the plot\n",
    "plt.show()\n"
   ]
  },
  {
   "cell_type": "code",
   "execution_count": 25,
   "id": "97d9afea",
   "metadata": {},
   "outputs": [],
   "source": [
    "# This scatter plot shows a strong positive linear relationship between the number of first doses administered and the number of second doses administered. This indicates that as the number of first doses increases, the number of second doses also increases."
   ]
  },
  {
   "cell_type": "code",
   "execution_count": 26,
   "id": "0bd7f8f5",
   "metadata": {},
   "outputs": [
    {
     "data": {
      "image/png": "[encoded data removed]",
      "text/plain": [
       "<Figure size 432x288 with 1 Axes>"
      ]
     },
     "metadata": {
      "needs_background": "light"
     },
     "output_type": "display_data"
    }
   ],
   "source": [
    "plt.scatter(data['FirstDose'], data['ThirdDose'])\n",
    "# Set plot title and axis labels\n",
    "\n",
    "plt.xlabel('First Dose')\n",
    "plt.ylabel('Third Dose')\n",
    "plt.title('First Dose vs. Third Dose')\n",
    "\n",
    "# Show the plot\n",
    "plt.show()\n"
   ]
  },
  {
   "cell_type": "code",
   "execution_count": 27,
   "id": "b3fe889a",
   "metadata": {},
   "outputs": [],
   "source": [
    "# We can see that there is also a positive correlation between the two variables, but it is not as strong as the correlation between the first and second doses. This could be due to various factors"
   ]
  },
  {
   "cell_type": "code",
   "execution_count": 28,
   "id": "71d8bb4c",
   "metadata": {},
   "outputs": [
    {
     "data": {
      "image/png": "[encoded data removed]",
      "text/plain": [
       "<Figure size 432x288 with 1 Axes>"
      ]
     },
     "metadata": {
      "needs_background": "light"
     },
     "output_type": "display_data"
    }
   ],
   "source": [
    "plt.scatter(data['SecondDose'] , data['ThirdDose'])\n",
    "\n",
    "# Set the plot title and axis labels\n",
    "plt.xlabel('Second Dose')\n",
    "plt.ylabel(\"Third Dose\")\n",
    "plt.title('Second Dose vs Third Dose')\n",
    "\n",
    "#show plot\n",
    "plt.show()"
   ]
  },
  {
   "cell_type": "code",
   "execution_count": 29,
   "id": "ac7066db",
   "metadata": {},
   "outputs": [],
   "source": [
    "# We can see that there is also a positive correlation between the two variables "
   ]
  },
  {
   "cell_type": "markdown",
   "id": "6be1f86d",
   "metadata": {},
   "source": [
    "### Q5 Visualise the relationship b/w a categorical and a numeric variables, provide comments."
   ]
  },
  {
   "cell_type": "code",
   "execution_count": 30,
   "id": "a98580c4",
   "metadata": {},
   "outputs": [],
   "source": [
    "first_dose_by_region = data.groupby('areaName')['FirstDose'].max()\n",
    "second_dose_by_region = data.groupby('areaName')['SecondDose'].max()\n",
    "third_dose_by_region = data.groupby('areaName')['ThirdDose'].max()\n"
   ]
  },
  {
   "cell_type": "code",
   "execution_count": 31,
   "id": "55d7b62f",
   "metadata": {},
   "outputs": [
    {
     "data": {
      "image/png": "[encoded data removed]",
      "text/plain": [
       "<Figure size 432x288 with 1 Axes>"
      ]
     },
     "metadata": {
      "needs_background": "light"
     },
     "output_type": "display_data"
    }
   ],
   "source": [
    "plt.bar(first_dose_by_region.index, first_dose_by_region.values)\n",
    "plt.xticks(rotation=90)\n",
    "plt.xlabel('areaName')\n",
    "plt.ylabel('Number of people who received the first dose')\n",
    "plt.title('Number of people who received the first dose in each region')\n",
    "plt.show()\n"
   ]
  },
  {
   "cell_type": "code",
   "execution_count": 32,
   "id": "ff869dd1",
   "metadata": {},
   "outputs": [
    {
     "data": {
      "image/png": "[encoded data removed]",
      "text/plain": [
       "<Figure size 432x288 with 1 Axes>"
      ]
     },
     "metadata": {
      "needs_background": "light"
     },
     "output_type": "display_data"
    }
   ],
   "source": [
    "plt.bar(second_dose_by_region.index, second_dose_by_region.values)\n",
    "plt.xticks(rotation=90)\n",
    "plt.xlabel('areaName')\n",
    "plt.ylabel('Number of people who received the second dose')\n",
    "plt.title('Number of people who received the second dose in each region')\n",
    "plt.show()\n"
   ]
  },
  {
   "cell_type": "code",
   "execution_count": 33,
   "id": "b5536324",
   "metadata": {},
   "outputs": [
    {
     "data": {
      "image/png": "[encoded data removed]",
      "text/plain": [
       "<Figure size 432x288 with 1 Axes>"
      ]
     },
     "metadata": {
      "needs_background": "light"
     },
     "output_type": "display_data"
    }
   ],
   "source": [
    "plt.bar(third_dose_by_region.index, third_dose_by_region.values)\n",
    "plt.xticks(rotation=90)\n",
    "plt.xlabel('areaName')\n",
    "plt.ylabel('Number of people who received the third dose')\n",
    "plt.title('Number of people who received the third dose in each region')\n",
    "plt.show()\n"
   ]
  },
  {
   "cell_type": "code",
   "execution_count": 34,
   "id": "5583325e",
   "metadata": {},
   "outputs": [],
   "source": [
    "# the bar charts show that England had the highest number of individuals vaccinated across all three doses, followed by the wales and Scotland. The Northern ireland consistently had the lowest number of individuals vaccinated across all three doses."
   ]
  },
  {
   "cell_type": "markdown",
   "id": "d4359972",
   "metadata": {},
   "source": [
    "### Q6 Build a contingency table of two potentially related categorical variables, then conduct a statistical test of the independence between them and interpret the results"
   ]
  },
  {
   "cell_type": "code",
   "execution_count": 35,
   "id": "291a5ebe",
   "metadata": {},
   "outputs": [],
   "source": [
    "# The contingency table shows the frequency counts of each combination of 'areaName' and 'Quarter' in the dataset."
   ]
  },
  {
   "cell_type": "code",
   "execution_count": 36,
   "id": "4efd0298",
   "metadata": {},
   "outputs": [
    {
     "name": "stdout",
     "output_type": "stream",
     "text": [
      "Quarter           Q1  Q2  Q4\n",
      "areaName                    \n",
      "England           90  53  92\n",
      "Northern Ireland  89  53  91\n",
      "Scotland          90  49  79\n",
      "Wales             90  48  66\n"
     ]
    }
   ],
   "source": [
    "# Create a contingency table of the number of vaccinations administered by region and vaccine manufacturer\n",
    "cont_table = pd.crosstab(data['areaName'], data['Quarter'])\n",
    "print(cont_table)\n",
    "\n"
   ]
  },
  {
   "cell_type": "code",
   "execution_count": 37,
   "id": "803ba6e3",
   "metadata": {},
   "outputs": [],
   "source": [
    "# The numbers in the table represent the frequency of observations falling into each group.\n",
    "# For example, there were 90 observations in England in Q1, 53 in Q2, and 92 in Q4. \n",
    "#Similarly, there were 89 observations in Northern Ireland in Q1, 53 in Q2, and 91 in Q4, and so on."
   ]
  },
  {
   "cell_type": "code",
   "execution_count": 38,
   "id": "6a971913",
   "metadata": {},
   "outputs": [],
   "source": [
    "# the null hypothesis (H0) is assumption that there is no significant difference or relationship between two variables\n",
    "# the alternative hypothesis (H1) suggesting that there is a significant difference or relationship between the variables."
   ]
  },
  {
   "cell_type": "code",
   "execution_count": 39,
   "id": "60f16df2",
   "metadata": {},
   "outputs": [
    {
     "name": "stdout",
     "output_type": "stream",
     "text": [
      "Chi-square statistic: 3.1283095205786853\n",
      "P-value: 0.7925789480239712\n"
     ]
    }
   ],
   "source": [
    "# Conduct a chi-square test of independence\n",
    "from scipy.stats import chi2_contingency\n",
    "\n",
    "chi2, p, dof, expected = chi2_contingency(cont_table)\n",
    "\n",
    "print('Chi-square statistic:', chi2)\n",
    "print('P-value:', p)\n",
    "\n",
    "\n"
   ]
  },
  {
   "cell_type": "code",
   "execution_count": 40,
   "id": "91524bb0",
   "metadata": {},
   "outputs": [],
   "source": [
    "# The Chi-square statistic of 3.1283 and the associated p-value of 0.7926 suggest that \n",
    "# there may be a statistically significant association between the 'areaName' and 'Quarter' \n",
    "# variables in the vaccination dataset. "
   ]
  },
  {
   "cell_type": "code",
   "execution_count": 41,
   "id": "26f09d2a",
   "metadata": {},
   "outputs": [],
   "source": [
    "# means H0 is reject\n",
    "# result are statistically significant "
   ]
  },
  {
   "cell_type": "markdown",
   "id": "d8e6775f",
   "metadata": {},
   "source": [
    "### Q7 Retrieve one or more subset of rows based on two or more criteria and present descriptive statistics on the subset(s).\n"
   ]
  },
  {
   "cell_type": "code",
   "execution_count": 42,
   "id": "68a90c14",
   "metadata": {},
   "outputs": [],
   "source": [
    "# Suppose we want to retrieve the rows for the areaName \"England\" and the date \"Monday and Thursday\"."
   ]
  },
  {
   "cell_type": "code",
   "execution_count": 43,
   "id": "264cf7de",
   "metadata": {},
   "outputs": [
    {
     "data": {
      "text/html": [
       "<div>\n",
       "<style scoped>\n",
       "    .dataframe tbody tr th:only-of-type {\n",
       "        vertical-align: middle;\n",
       "    }\n",
       "\n",
       "    .dataframe tbody tr th {\n",
       "        vertical-align: top;\n",
       "    }\n",
       "\n",
       "    .dataframe thead th {\n",
       "        text-align: right;\n",
       "    }\n",
       "</style>\n",
       "<table border=\"1\" class=\"dataframe\">\n",
       "  <thead>\n",
       "    <tr style=\"text-align: right;\">\n",
       "      <th></th>\n",
       "      <th>areaName</th>\n",
       "      <th>areaCode</th>\n",
       "      <th>year</th>\n",
       "      <th>month</th>\n",
       "      <th>Quarter</th>\n",
       "      <th>day</th>\n",
       "      <th>WorkingDay</th>\n",
       "      <th>FirstDose</th>\n",
       "      <th>SecondDose</th>\n",
       "      <th>ThirdDose</th>\n",
       "    </tr>\n",
       "  </thead>\n",
       "  <tbody>\n",
       "    <tr>\n",
       "      <th>0</th>\n",
       "      <td>England</td>\n",
       "      <td>E92000001</td>\n",
       "      <td>2022.0</td>\n",
       "      <td>5</td>\n",
       "      <td>Q2</td>\n",
       "      <td>Mon</td>\n",
       "      <td>Yes</td>\n",
       "      <td>3034.0</td>\n",
       "      <td>3857.0</td>\n",
       "      <td>8747.0</td>\n",
       "    </tr>\n",
       "    <tr>\n",
       "      <th>7</th>\n",
       "      <td>England</td>\n",
       "      <td>E92000001</td>\n",
       "      <td>2022.0</td>\n",
       "      <td>5</td>\n",
       "      <td>Q2</td>\n",
       "      <td>Mon</td>\n",
       "      <td>Yes</td>\n",
       "      <td>4337.0</td>\n",
       "      <td>4893.0</td>\n",
       "      <td>10343.0</td>\n",
       "    </tr>\n",
       "    <tr>\n",
       "      <th>14</th>\n",
       "      <td>England</td>\n",
       "      <td>E92000001</td>\n",
       "      <td>2022.0</td>\n",
       "      <td>5</td>\n",
       "      <td>Q2</td>\n",
       "      <td>Mon</td>\n",
       "      <td>Yes</td>\n",
       "      <td>5101.0</td>\n",
       "      <td>6624.0</td>\n",
       "      <td>10965.0</td>\n",
       "    </tr>\n",
       "    <tr>\n",
       "      <th>21</th>\n",
       "      <td>England</td>\n",
       "      <td>E92000001</td>\n",
       "      <td>2022.0</td>\n",
       "      <td>5</td>\n",
       "      <td>Q2</td>\n",
       "      <td>Mon</td>\n",
       "      <td>Yes</td>\n",
       "      <td>5043.0</td>\n",
       "      <td>2246.0</td>\n",
       "      <td>3193.0</td>\n",
       "    </tr>\n",
       "    <tr>\n",
       "      <th>28</th>\n",
       "      <td>England</td>\n",
       "      <td>E92000001</td>\n",
       "      <td>2022.0</td>\n",
       "      <td>4</td>\n",
       "      <td>Q2</td>\n",
       "      <td>Mon</td>\n",
       "      <td>Yes</td>\n",
       "      <td>7897.0</td>\n",
       "      <td>6803.0</td>\n",
       "      <td>11920.0</td>\n",
       "    </tr>\n",
       "    <tr>\n",
       "      <th>35</th>\n",
       "      <td>England</td>\n",
       "      <td>E92000001</td>\n",
       "      <td>2022.0</td>\n",
       "      <td>4</td>\n",
       "      <td>Q2</td>\n",
       "      <td>Mon</td>\n",
       "      <td>Yes</td>\n",
       "      <td>5737.0</td>\n",
       "      <td>3181.0</td>\n",
       "      <td>3957.0</td>\n",
       "    </tr>\n",
       "    <tr>\n",
       "      <th>42</th>\n",
       "      <td>England</td>\n",
       "      <td>E92000001</td>\n",
       "      <td>2022.0</td>\n",
       "      <td>4</td>\n",
       "      <td>Q2</td>\n",
       "      <td>Mon</td>\n",
       "      <td>Yes</td>\n",
       "      <td>14014.0</td>\n",
       "      <td>10497.0</td>\n",
       "      <td>14275.0</td>\n",
       "    </tr>\n",
       "    <tr>\n",
       "      <th>49</th>\n",
       "      <td>England</td>\n",
       "      <td>E92000001</td>\n",
       "      <td>2022.0</td>\n",
       "      <td>4</td>\n",
       "      <td>Q2</td>\n",
       "      <td>Mon</td>\n",
       "      <td>Yes</td>\n",
       "      <td>8576.0</td>\n",
       "      <td>9319.0</td>\n",
       "      <td>12831.0</td>\n",
       "    </tr>\n",
       "    <tr>\n",
       "      <th>56</th>\n",
       "      <td>England</td>\n",
       "      <td>E92000001</td>\n",
       "      <td>2022.0</td>\n",
       "      <td>3</td>\n",
       "      <td>Q1</td>\n",
       "      <td>Mon</td>\n",
       "      <td>Yes</td>\n",
       "      <td>2994.0</td>\n",
       "      <td>9500.0</td>\n",
       "      <td>11974.0</td>\n",
       "    </tr>\n",
       "    <tr>\n",
       "      <th>63</th>\n",
       "      <td>England</td>\n",
       "      <td>E92000001</td>\n",
       "      <td>2022.0</td>\n",
       "      <td>3</td>\n",
       "      <td>Q1</td>\n",
       "      <td>Mon</td>\n",
       "      <td>Yes</td>\n",
       "      <td>2925.0</td>\n",
       "      <td>10889.0</td>\n",
       "      <td>14144.0</td>\n",
       "    </tr>\n",
       "    <tr>\n",
       "      <th>70</th>\n",
       "      <td>England</td>\n",
       "      <td>E92000001</td>\n",
       "      <td>2022.0</td>\n",
       "      <td>3</td>\n",
       "      <td>Q1</td>\n",
       "      <td>Mon</td>\n",
       "      <td>Yes</td>\n",
       "      <td>3030.0</td>\n",
       "      <td>11844.0</td>\n",
       "      <td>15098.0</td>\n",
       "    </tr>\n",
       "    <tr>\n",
       "      <th>77</th>\n",
       "      <td>England</td>\n",
       "      <td>E92000001</td>\n",
       "      <td>2022.0</td>\n",
       "      <td>3</td>\n",
       "      <td>Q1</td>\n",
       "      <td>Mon</td>\n",
       "      <td>Yes</td>\n",
       "      <td>3966.0</td>\n",
       "      <td>11688.0</td>\n",
       "      <td>14466.0</td>\n",
       "    </tr>\n",
       "    <tr>\n",
       "      <th>84</th>\n",
       "      <td>England</td>\n",
       "      <td>E92000001</td>\n",
       "      <td>2022.0</td>\n",
       "      <td>2</td>\n",
       "      <td>Q1</td>\n",
       "      <td>Mon</td>\n",
       "      <td>Yes</td>\n",
       "      <td>5095.0</td>\n",
       "      <td>12964.0</td>\n",
       "      <td>17065.0</td>\n",
       "    </tr>\n",
       "    <tr>\n",
       "      <th>91</th>\n",
       "      <td>England</td>\n",
       "      <td>E92000001</td>\n",
       "      <td>2022.0</td>\n",
       "      <td>2</td>\n",
       "      <td>Q1</td>\n",
       "      <td>Mon</td>\n",
       "      <td>Yes</td>\n",
       "      <td>6376.0</td>\n",
       "      <td>14421.0</td>\n",
       "      <td>19416.0</td>\n",
       "    </tr>\n",
       "    <tr>\n",
       "      <th>98</th>\n",
       "      <td>England</td>\n",
       "      <td>E92000001</td>\n",
       "      <td>2022.0</td>\n",
       "      <td>2</td>\n",
       "      <td>Q1</td>\n",
       "      <td>Mon</td>\n",
       "      <td>Yes</td>\n",
       "      <td>7095.0</td>\n",
       "      <td>16416.0</td>\n",
       "      <td>21853.0</td>\n",
       "    </tr>\n",
       "    <tr>\n",
       "      <th>105</th>\n",
       "      <td>England</td>\n",
       "      <td>E92000001</td>\n",
       "      <td>2022.0</td>\n",
       "      <td>2</td>\n",
       "      <td>Q1</td>\n",
       "      <td>Mon</td>\n",
       "      <td>Yes</td>\n",
       "      <td>8920.0</td>\n",
       "      <td>21249.0</td>\n",
       "      <td>23853.0</td>\n",
       "    </tr>\n",
       "    <tr>\n",
       "      <th>112</th>\n",
       "      <td>England</td>\n",
       "      <td>E92000001</td>\n",
       "      <td>2022.0</td>\n",
       "      <td>1</td>\n",
       "      <td>Q1</td>\n",
       "      <td>Mon</td>\n",
       "      <td>Yes</td>\n",
       "      <td>10282.0</td>\n",
       "      <td>20875.0</td>\n",
       "      <td>31547.0</td>\n",
       "    </tr>\n",
       "    <tr>\n",
       "      <th>119</th>\n",
       "      <td>England</td>\n",
       "      <td>E92000001</td>\n",
       "      <td>2022.0</td>\n",
       "      <td>1</td>\n",
       "      <td>Q1</td>\n",
       "      <td>Mon</td>\n",
       "      <td>Yes</td>\n",
       "      <td>14931.0</td>\n",
       "      <td>24288.0</td>\n",
       "      <td>45199.0</td>\n",
       "    </tr>\n",
       "    <tr>\n",
       "      <th>126</th>\n",
       "      <td>England</td>\n",
       "      <td>E92000001</td>\n",
       "      <td>2022.0</td>\n",
       "      <td>1</td>\n",
       "      <td>Q1</td>\n",
       "      <td>Mon</td>\n",
       "      <td>Yes</td>\n",
       "      <td>13819.0</td>\n",
       "      <td>21951.0</td>\n",
       "      <td>54649.0</td>\n",
       "    </tr>\n",
       "    <tr>\n",
       "      <th>133</th>\n",
       "      <td>England</td>\n",
       "      <td>E92000001</td>\n",
       "      <td>2022.0</td>\n",
       "      <td>1</td>\n",
       "      <td>Q1</td>\n",
       "      <td>Mon</td>\n",
       "      <td>Yes</td>\n",
       "      <td>15755.0</td>\n",
       "      <td>21442.0</td>\n",
       "      <td>116227.0</td>\n",
       "    </tr>\n",
       "    <tr>\n",
       "      <th>140</th>\n",
       "      <td>England</td>\n",
       "      <td>E92000001</td>\n",
       "      <td>2022.0</td>\n",
       "      <td>1</td>\n",
       "      <td>Q1</td>\n",
       "      <td>Mon</td>\n",
       "      <td>Yes</td>\n",
       "      <td>17260.0</td>\n",
       "      <td>22166.0</td>\n",
       "      <td>117336.0</td>\n",
       "    </tr>\n",
       "    <tr>\n",
       "      <th>147</th>\n",
       "      <td>England</td>\n",
       "      <td>E92000001</td>\n",
       "      <td>2021.0</td>\n",
       "      <td>12</td>\n",
       "      <td>Q4</td>\n",
       "      <td>Mon</td>\n",
       "      <td>Yes</td>\n",
       "      <td>15766.0</td>\n",
       "      <td>18686.0</td>\n",
       "      <td>209626.0</td>\n",
       "    </tr>\n",
       "    <tr>\n",
       "      <th>154</th>\n",
       "      <td>England</td>\n",
       "      <td>E92000001</td>\n",
       "      <td>2021.0</td>\n",
       "      <td>12</td>\n",
       "      <td>Q4</td>\n",
       "      <td>Mon</td>\n",
       "      <td>Yes</td>\n",
       "      <td>36092.0</td>\n",
       "      <td>44655.0</td>\n",
       "      <td>753793.0</td>\n",
       "    </tr>\n",
       "    <tr>\n",
       "      <th>161</th>\n",
       "      <td>England</td>\n",
       "      <td>E92000001</td>\n",
       "      <td>2021.0</td>\n",
       "      <td>12</td>\n",
       "      <td>Q4</td>\n",
       "      <td>Mon</td>\n",
       "      <td>Yes</td>\n",
       "      <td>19270.0</td>\n",
       "      <td>25394.0</td>\n",
       "      <td>418544.0</td>\n",
       "    </tr>\n",
       "    <tr>\n",
       "      <th>168</th>\n",
       "      <td>England</td>\n",
       "      <td>E92000001</td>\n",
       "      <td>2021.0</td>\n",
       "      <td>12</td>\n",
       "      <td>Q4</td>\n",
       "      <td>Mon</td>\n",
       "      <td>Yes</td>\n",
       "      <td>17537.0</td>\n",
       "      <td>21622.0</td>\n",
       "      <td>268062.0</td>\n",
       "    </tr>\n",
       "    <tr>\n",
       "      <th>175</th>\n",
       "      <td>England</td>\n",
       "      <td>E92000001</td>\n",
       "      <td>2021.0</td>\n",
       "      <td>11</td>\n",
       "      <td>Q4</td>\n",
       "      <td>Mon</td>\n",
       "      <td>Yes</td>\n",
       "      <td>19496.0</td>\n",
       "      <td>22601.0</td>\n",
       "      <td>258944.0</td>\n",
       "    </tr>\n",
       "    <tr>\n",
       "      <th>182</th>\n",
       "      <td>England</td>\n",
       "      <td>E92000001</td>\n",
       "      <td>2021.0</td>\n",
       "      <td>11</td>\n",
       "      <td>Q4</td>\n",
       "      <td>Mon</td>\n",
       "      <td>Yes</td>\n",
       "      <td>20665.0</td>\n",
       "      <td>15567.0</td>\n",
       "      <td>249999.0</td>\n",
       "    </tr>\n",
       "    <tr>\n",
       "      <th>189</th>\n",
       "      <td>England</td>\n",
       "      <td>E92000001</td>\n",
       "      <td>2021.0</td>\n",
       "      <td>11</td>\n",
       "      <td>Q4</td>\n",
       "      <td>Mon</td>\n",
       "      <td>Yes</td>\n",
       "      <td>27672.0</td>\n",
       "      <td>15525.0</td>\n",
       "      <td>232248.0</td>\n",
       "    </tr>\n",
       "    <tr>\n",
       "      <th>196</th>\n",
       "      <td>England</td>\n",
       "      <td>E92000001</td>\n",
       "      <td>2021.0</td>\n",
       "      <td>11</td>\n",
       "      <td>Q4</td>\n",
       "      <td>Mon</td>\n",
       "      <td>Yes</td>\n",
       "      <td>30386.0</td>\n",
       "      <td>17398.0</td>\n",
       "      <td>222489.0</td>\n",
       "    </tr>\n",
       "    <tr>\n",
       "      <th>203</th>\n",
       "      <td>England</td>\n",
       "      <td>E92000001</td>\n",
       "      <td>2021.0</td>\n",
       "      <td>11</td>\n",
       "      <td>Q4</td>\n",
       "      <td>Mon</td>\n",
       "      <td>Yes</td>\n",
       "      <td>34642.0</td>\n",
       "      <td>15751.0</td>\n",
       "      <td>196712.0</td>\n",
       "    </tr>\n",
       "    <tr>\n",
       "      <th>210</th>\n",
       "      <td>England</td>\n",
       "      <td>E92000001</td>\n",
       "      <td>2021.0</td>\n",
       "      <td>10</td>\n",
       "      <td>Q4</td>\n",
       "      <td>Mon</td>\n",
       "      <td>Yes</td>\n",
       "      <td>32032.0</td>\n",
       "      <td>18251.0</td>\n",
       "      <td>188412.0</td>\n",
       "    </tr>\n",
       "    <tr>\n",
       "      <th>217</th>\n",
       "      <td>England</td>\n",
       "      <td>E92000001</td>\n",
       "      <td>2021.0</td>\n",
       "      <td>10</td>\n",
       "      <td>Q4</td>\n",
       "      <td>Mon</td>\n",
       "      <td>Yes</td>\n",
       "      <td>35334.0</td>\n",
       "      <td>20668.0</td>\n",
       "      <td>150296.0</td>\n",
       "    </tr>\n",
       "    <tr>\n",
       "      <th>224</th>\n",
       "      <td>England</td>\n",
       "      <td>E92000001</td>\n",
       "      <td>2021.0</td>\n",
       "      <td>10</td>\n",
       "      <td>Q4</td>\n",
       "      <td>Mon</td>\n",
       "      <td>Yes</td>\n",
       "      <td>23232.0</td>\n",
       "      <td>20350.0</td>\n",
       "      <td>121718.0</td>\n",
       "    </tr>\n",
       "    <tr>\n",
       "      <th>231</th>\n",
       "      <td>England</td>\n",
       "      <td>E92000001</td>\n",
       "      <td>2021.0</td>\n",
       "      <td>10</td>\n",
       "      <td>Q4</td>\n",
       "      <td>Mon</td>\n",
       "      <td>Yes</td>\n",
       "      <td>30784.0</td>\n",
       "      <td>24746.0</td>\n",
       "      <td>122358.0</td>\n",
       "    </tr>\n",
       "  </tbody>\n",
       "</table>\n",
       "</div>"
      ],
      "text/plain": [
       "    areaName   areaCode    year  month Quarter  day WorkingDay  FirstDose  \\\n",
       "0    England  E92000001  2022.0      5      Q2  Mon        Yes     3034.0   \n",
       "7    England  E92000001  2022.0      5      Q2  Mon        Yes     4337.0   \n",
       "14   England  E92000001  2022.0      5      Q2  Mon        Yes     5101.0   \n",
       "21   England  E92000001  2022.0      5      Q2  Mon        Yes     5043.0   \n",
       "28   England  E92000001  2022.0      4      Q2  Mon        Yes     7897.0   \n",
       "35   England  E92000001  2022.0      4      Q2  Mon        Yes     5737.0   \n",
       "42   England  E92000001  2022.0      4      Q2  Mon        Yes    14014.0   \n",
       "49   England  E92000001  2022.0      4      Q2  Mon        Yes     8576.0   \n",
       "56   England  E92000001  2022.0      3      Q1  Mon        Yes     2994.0   \n",
       "63   England  E92000001  2022.0      3      Q1  Mon        Yes     2925.0   \n",
       "70   England  E92000001  2022.0      3      Q1  Mon        Yes     3030.0   \n",
       "77   England  E92000001  2022.0      3      Q1  Mon        Yes     3966.0   \n",
       "84   England  E92000001  2022.0      2      Q1  Mon        Yes     5095.0   \n",
       "91   England  E92000001  2022.0      2      Q1  Mon        Yes     6376.0   \n",
       "98   England  E92000001  2022.0      2      Q1  Mon        Yes     7095.0   \n",
       "105  England  E92000001  2022.0      2      Q1  Mon        Yes     8920.0   \n",
       "112  England  E92000001  2022.0      1      Q1  Mon        Yes    10282.0   \n",
       "119  England  E92000001  2022.0      1      Q1  Mon        Yes    14931.0   \n",
       "126  England  E92000001  2022.0      1      Q1  Mon        Yes    13819.0   \n",
       "133  England  E92000001  2022.0      1      Q1  Mon        Yes    15755.0   \n",
       "140  England  E92000001  2022.0      1      Q1  Mon        Yes    17260.0   \n",
       "147  England  E92000001  2021.0     12      Q4  Mon        Yes    15766.0   \n",
       "154  England  E92000001  2021.0     12      Q4  Mon        Yes    36092.0   \n",
       "161  England  E92000001  2021.0     12      Q4  Mon        Yes    19270.0   \n",
       "168  England  E92000001  2021.0     12      Q4  Mon        Yes    17537.0   \n",
       "175  England  E92000001  2021.0     11      Q4  Mon        Yes    19496.0   \n",
       "182  England  E92000001  2021.0     11      Q4  Mon        Yes    20665.0   \n",
       "189  England  E92000001  2021.0     11      Q4  Mon        Yes    27672.0   \n",
       "196  England  E92000001  2021.0     11      Q4  Mon        Yes    30386.0   \n",
       "203  England  E92000001  2021.0     11      Q4  Mon        Yes    34642.0   \n",
       "210  England  E92000001  2021.0     10      Q4  Mon        Yes    32032.0   \n",
       "217  England  E92000001  2021.0     10      Q4  Mon        Yes    35334.0   \n",
       "224  England  E92000001  2021.0     10      Q4  Mon        Yes    23232.0   \n",
       "231  England  E92000001  2021.0     10      Q4  Mon        Yes    30784.0   \n",
       "\n",
       "     SecondDose  ThirdDose  \n",
       "0        3857.0     8747.0  \n",
       "7        4893.0    10343.0  \n",
       "14       6624.0    10965.0  \n",
       "21       2246.0     3193.0  \n",
       "28       6803.0    11920.0  \n",
       "35       3181.0     3957.0  \n",
       "42      10497.0    14275.0  \n",
       "49       9319.0    12831.0  \n",
       "56       9500.0    11974.0  \n",
       "63      10889.0    14144.0  \n",
       "70      11844.0    15098.0  \n",
       "77      11688.0    14466.0  \n",
       "84      12964.0    17065.0  \n",
       "91      14421.0    19416.0  \n",
       "98      16416.0    21853.0  \n",
       "105     21249.0    23853.0  \n",
       "112     20875.0    31547.0  \n",
       "119     24288.0    45199.0  \n",
       "126     21951.0    54649.0  \n",
       "133     21442.0   116227.0  \n",
       "140     22166.0   117336.0  \n",
       "147     18686.0   209626.0  \n",
       "154     44655.0   753793.0  \n",
       "161     25394.0   418544.0  \n",
       "168     21622.0   268062.0  \n",
       "175     22601.0   258944.0  \n",
       "182     15567.0   249999.0  \n",
       "189     15525.0   232248.0  \n",
       "196     17398.0   222489.0  \n",
       "203     15751.0   196712.0  \n",
       "210     18251.0   188412.0  \n",
       "217     20668.0   150296.0  \n",
       "224     20350.0   121718.0  \n",
       "231     24746.0   122358.0  "
      ]
     },
     "execution_count": 43,
     "metadata": {},
     "output_type": "execute_result"
    }
   ],
   "source": [
    "data.loc[(data['areaName'] == 'England') & (data['day'] == 'Mon')]"
   ]
  },
  {
   "cell_type": "code",
   "execution_count": 44,
   "id": "72748d5f",
   "metadata": {},
   "outputs": [
    {
     "data": {
      "text/html": [
       "<div>\n",
       "<style scoped>\n",
       "    .dataframe tbody tr th:only-of-type {\n",
       "        vertical-align: middle;\n",
       "    }\n",
       "\n",
       "    .dataframe tbody tr th {\n",
       "        vertical-align: top;\n",
       "    }\n",
       "\n",
       "    .dataframe thead th {\n",
       "        text-align: right;\n",
       "    }\n",
       "</style>\n",
       "<table border=\"1\" class=\"dataframe\">\n",
       "  <thead>\n",
       "    <tr style=\"text-align: right;\">\n",
       "      <th></th>\n",
       "      <th>FirstDose</th>\n",
       "      <th>SecondDose</th>\n",
       "      <th>ThirdDose</th>\n",
       "    </tr>\n",
       "  </thead>\n",
       "  <tbody>\n",
       "    <tr>\n",
       "      <th>count</th>\n",
       "      <td>34.000000</td>\n",
       "      <td>34.000000</td>\n",
       "      <td>34.000000</td>\n",
       "    </tr>\n",
       "    <tr>\n",
       "      <th>mean</th>\n",
       "      <td>14973.382353</td>\n",
       "      <td>16127.264706</td>\n",
       "      <td>116831.147059</td>\n",
       "    </tr>\n",
       "    <tr>\n",
       "      <th>std</th>\n",
       "      <td>10751.680889</td>\n",
       "      <td>8396.990158</td>\n",
       "      <td>154850.715847</td>\n",
       "    </tr>\n",
       "    <tr>\n",
       "      <th>min</th>\n",
       "      <td>2925.000000</td>\n",
       "      <td>2246.000000</td>\n",
       "      <td>3193.000000</td>\n",
       "    </tr>\n",
       "    <tr>\n",
       "      <th>25%</th>\n",
       "      <td>5260.000000</td>\n",
       "      <td>10595.000000</td>\n",
       "      <td>14176.750000</td>\n",
       "    </tr>\n",
       "    <tr>\n",
       "      <th>50%</th>\n",
       "      <td>13916.500000</td>\n",
       "      <td>16083.500000</td>\n",
       "      <td>38373.000000</td>\n",
       "    </tr>\n",
       "    <tr>\n",
       "      <th>75%</th>\n",
       "      <td>20372.750000</td>\n",
       "      <td>21393.750000</td>\n",
       "      <td>194637.000000</td>\n",
       "    </tr>\n",
       "    <tr>\n",
       "      <th>max</th>\n",
       "      <td>36092.000000</td>\n",
       "      <td>44655.000000</td>\n",
       "      <td>753793.000000</td>\n",
       "    </tr>\n",
       "  </tbody>\n",
       "</table>\n",
       "</div>"
      ],
      "text/plain": [
       "          FirstDose    SecondDose      ThirdDose\n",
       "count     34.000000     34.000000      34.000000\n",
       "mean   14973.382353  16127.264706  116831.147059\n",
       "std    10751.680889   8396.990158  154850.715847\n",
       "min     2925.000000   2246.000000    3193.000000\n",
       "25%     5260.000000  10595.000000   14176.750000\n",
       "50%    13916.500000  16083.500000   38373.000000\n",
       "75%    20372.750000  21393.750000  194637.000000\n",
       "max    36092.000000  44655.000000  753793.000000"
      ]
     },
     "execution_count": 44,
     "metadata": {},
     "output_type": "execute_result"
    }
   ],
   "source": [
    "subset = data.loc[(data['areaName'] == 'England') & (data['day'] == 'Mon')]\n",
    "subset[['FirstDose', 'SecondDose', 'ThirdDose']].describe()\n"
   ]
  },
  {
   "cell_type": "code",
   "execution_count": 45,
   "id": "20a78dce",
   "metadata": {},
   "outputs": [
    {
     "data": {
      "text/html": [
       "<div>\n",
       "<style scoped>\n",
       "    .dataframe tbody tr th:only-of-type {\n",
       "        vertical-align: middle;\n",
       "    }\n",
       "\n",
       "    .dataframe tbody tr th {\n",
       "        vertical-align: top;\n",
       "    }\n",
       "\n",
       "    .dataframe thead th {\n",
       "        text-align: right;\n",
       "    }\n",
       "</style>\n",
       "<table border=\"1\" class=\"dataframe\">\n",
       "  <thead>\n",
       "    <tr style=\"text-align: right;\">\n",
       "      <th></th>\n",
       "      <th>areaName</th>\n",
       "      <th>areaCode</th>\n",
       "      <th>year</th>\n",
       "      <th>month</th>\n",
       "      <th>Quarter</th>\n",
       "      <th>day</th>\n",
       "      <th>WorkingDay</th>\n",
       "      <th>FirstDose</th>\n",
       "      <th>SecondDose</th>\n",
       "      <th>ThirdDose</th>\n",
       "    </tr>\n",
       "  </thead>\n",
       "  <tbody>\n",
       "    <tr>\n",
       "      <th>4</th>\n",
       "      <td>England</td>\n",
       "      <td>E92000001</td>\n",
       "      <td>2022.0</td>\n",
       "      <td>5</td>\n",
       "      <td>Q2</td>\n",
       "      <td>Thu</td>\n",
       "      <td>Yes</td>\n",
       "      <td>8439.0</td>\n",
       "      <td>6968.0</td>\n",
       "      <td>11701.0</td>\n",
       "    </tr>\n",
       "    <tr>\n",
       "      <th>11</th>\n",
       "      <td>England</td>\n",
       "      <td>E92000001</td>\n",
       "      <td>2022.0</td>\n",
       "      <td>5</td>\n",
       "      <td>Q2</td>\n",
       "      <td>Thu</td>\n",
       "      <td>Yes</td>\n",
       "      <td>6829.0</td>\n",
       "      <td>6541.0</td>\n",
       "      <td>11794.0</td>\n",
       "    </tr>\n",
       "    <tr>\n",
       "      <th>18</th>\n",
       "      <td>England</td>\n",
       "      <td>E92000001</td>\n",
       "      <td>2022.0</td>\n",
       "      <td>5</td>\n",
       "      <td>Q2</td>\n",
       "      <td>Thu</td>\n",
       "      <td>Yes</td>\n",
       "      <td>7539.0</td>\n",
       "      <td>6703.0</td>\n",
       "      <td>12546.0</td>\n",
       "    </tr>\n",
       "    <tr>\n",
       "      <th>25</th>\n",
       "      <td>England</td>\n",
       "      <td>E92000001</td>\n",
       "      <td>2022.0</td>\n",
       "      <td>4</td>\n",
       "      <td>Q2</td>\n",
       "      <td>Thu</td>\n",
       "      <td>Yes</td>\n",
       "      <td>9042.0</td>\n",
       "      <td>7014.0</td>\n",
       "      <td>13136.0</td>\n",
       "    </tr>\n",
       "    <tr>\n",
       "      <th>32</th>\n",
       "      <td>England</td>\n",
       "      <td>E92000001</td>\n",
       "      <td>2022.0</td>\n",
       "      <td>4</td>\n",
       "      <td>Q2</td>\n",
       "      <td>Thu</td>\n",
       "      <td>Yes</td>\n",
       "      <td>15770.0</td>\n",
       "      <td>9201.0</td>\n",
       "      <td>13812.0</td>\n",
       "    </tr>\n",
       "    <tr>\n",
       "      <th>39</th>\n",
       "      <td>England</td>\n",
       "      <td>E92000001</td>\n",
       "      <td>2022.0</td>\n",
       "      <td>4</td>\n",
       "      <td>Q2</td>\n",
       "      <td>Thu</td>\n",
       "      <td>Yes</td>\n",
       "      <td>20906.0</td>\n",
       "      <td>11444.0</td>\n",
       "      <td>15788.0</td>\n",
       "    </tr>\n",
       "    <tr>\n",
       "      <th>46</th>\n",
       "      <td>England</td>\n",
       "      <td>E92000001</td>\n",
       "      <td>2022.0</td>\n",
       "      <td>4</td>\n",
       "      <td>Q2</td>\n",
       "      <td>Thu</td>\n",
       "      <td>Yes</td>\n",
       "      <td>8963.0</td>\n",
       "      <td>9272.0</td>\n",
       "      <td>13339.0</td>\n",
       "    </tr>\n",
       "    <tr>\n",
       "      <th>53</th>\n",
       "      <td>England</td>\n",
       "      <td>E92000001</td>\n",
       "      <td>2022.0</td>\n",
       "      <td>3</td>\n",
       "      <td>Q1</td>\n",
       "      <td>Thu</td>\n",
       "      <td>Yes</td>\n",
       "      <td>3530.0</td>\n",
       "      <td>10881.0</td>\n",
       "      <td>13692.0</td>\n",
       "    </tr>\n",
       "    <tr>\n",
       "      <th>60</th>\n",
       "      <td>England</td>\n",
       "      <td>E92000001</td>\n",
       "      <td>2022.0</td>\n",
       "      <td>3</td>\n",
       "      <td>Q1</td>\n",
       "      <td>Thu</td>\n",
       "      <td>Yes</td>\n",
       "      <td>3462.0</td>\n",
       "      <td>10559.0</td>\n",
       "      <td>13816.0</td>\n",
       "    </tr>\n",
       "    <tr>\n",
       "      <th>67</th>\n",
       "      <td>England</td>\n",
       "      <td>E92000001</td>\n",
       "      <td>2022.0</td>\n",
       "      <td>3</td>\n",
       "      <td>Q1</td>\n",
       "      <td>Thu</td>\n",
       "      <td>Yes</td>\n",
       "      <td>3358.0</td>\n",
       "      <td>12310.0</td>\n",
       "      <td>14950.0</td>\n",
       "    </tr>\n",
       "    <tr>\n",
       "      <th>74</th>\n",
       "      <td>England</td>\n",
       "      <td>E92000001</td>\n",
       "      <td>2022.0</td>\n",
       "      <td>3</td>\n",
       "      <td>Q1</td>\n",
       "      <td>Thu</td>\n",
       "      <td>Yes</td>\n",
       "      <td>4116.0</td>\n",
       "      <td>12646.0</td>\n",
       "      <td>16212.0</td>\n",
       "    </tr>\n",
       "    <tr>\n",
       "      <th>81</th>\n",
       "      <td>England</td>\n",
       "      <td>E92000001</td>\n",
       "      <td>2022.0</td>\n",
       "      <td>3</td>\n",
       "      <td>Q1</td>\n",
       "      <td>Thu</td>\n",
       "      <td>Yes</td>\n",
       "      <td>5760.0</td>\n",
       "      <td>16370.0</td>\n",
       "      <td>25684.0</td>\n",
       "    </tr>\n",
       "    <tr>\n",
       "      <th>88</th>\n",
       "      <td>England</td>\n",
       "      <td>E92000001</td>\n",
       "      <td>2022.0</td>\n",
       "      <td>2</td>\n",
       "      <td>Q1</td>\n",
       "      <td>Thu</td>\n",
       "      <td>Yes</td>\n",
       "      <td>7066.0</td>\n",
       "      <td>14301.0</td>\n",
       "      <td>19624.0</td>\n",
       "    </tr>\n",
       "    <tr>\n",
       "      <th>95</th>\n",
       "      <td>England</td>\n",
       "      <td>E92000001</td>\n",
       "      <td>2022.0</td>\n",
       "      <td>2</td>\n",
       "      <td>Q1</td>\n",
       "      <td>Thu</td>\n",
       "      <td>Yes</td>\n",
       "      <td>8110.0</td>\n",
       "      <td>19082.0</td>\n",
       "      <td>24539.0</td>\n",
       "    </tr>\n",
       "    <tr>\n",
       "      <th>102</th>\n",
       "      <td>England</td>\n",
       "      <td>E92000001</td>\n",
       "      <td>2022.0</td>\n",
       "      <td>2</td>\n",
       "      <td>Q1</td>\n",
       "      <td>Thu</td>\n",
       "      <td>Yes</td>\n",
       "      <td>9989.0</td>\n",
       "      <td>23910.0</td>\n",
       "      <td>24703.0</td>\n",
       "    </tr>\n",
       "    <tr>\n",
       "      <th>109</th>\n",
       "      <td>England</td>\n",
       "      <td>E92000001</td>\n",
       "      <td>2022.0</td>\n",
       "      <td>2</td>\n",
       "      <td>Q1</td>\n",
       "      <td>Thu</td>\n",
       "      <td>Yes</td>\n",
       "      <td>11780.0</td>\n",
       "      <td>24026.0</td>\n",
       "      <td>29975.0</td>\n",
       "    </tr>\n",
       "    <tr>\n",
       "      <th>116</th>\n",
       "      <td>England</td>\n",
       "      <td>E92000001</td>\n",
       "      <td>2022.0</td>\n",
       "      <td>1</td>\n",
       "      <td>Q1</td>\n",
       "      <td>Thu</td>\n",
       "      <td>Yes</td>\n",
       "      <td>13989.0</td>\n",
       "      <td>26326.0</td>\n",
       "      <td>42450.0</td>\n",
       "    </tr>\n",
       "    <tr>\n",
       "      <th>123</th>\n",
       "      <td>England</td>\n",
       "      <td>E92000001</td>\n",
       "      <td>2022.0</td>\n",
       "      <td>1</td>\n",
       "      <td>Q1</td>\n",
       "      <td>Thu</td>\n",
       "      <td>Yes</td>\n",
       "      <td>15285.0</td>\n",
       "      <td>27069.0</td>\n",
       "      <td>49087.0</td>\n",
       "    </tr>\n",
       "    <tr>\n",
       "      <th>130</th>\n",
       "      <td>England</td>\n",
       "      <td>E92000001</td>\n",
       "      <td>2022.0</td>\n",
       "      <td>1</td>\n",
       "      <td>Q1</td>\n",
       "      <td>Thu</td>\n",
       "      <td>Yes</td>\n",
       "      <td>18101.0</td>\n",
       "      <td>26550.0</td>\n",
       "      <td>87221.0</td>\n",
       "    </tr>\n",
       "    <tr>\n",
       "      <th>137</th>\n",
       "      <td>England</td>\n",
       "      <td>E92000001</td>\n",
       "      <td>2022.0</td>\n",
       "      <td>1</td>\n",
       "      <td>Q1</td>\n",
       "      <td>Thu</td>\n",
       "      <td>Yes</td>\n",
       "      <td>20102.0</td>\n",
       "      <td>26799.0</td>\n",
       "      <td>188716.0</td>\n",
       "    </tr>\n",
       "    <tr>\n",
       "      <th>144</th>\n",
       "      <td>England</td>\n",
       "      <td>E92000001</td>\n",
       "      <td>2021.0</td>\n",
       "      <td>12</td>\n",
       "      <td>Q4</td>\n",
       "      <td>Thu</td>\n",
       "      <td>Yes</td>\n",
       "      <td>30432.0</td>\n",
       "      <td>39755.0</td>\n",
       "      <td>320532.0</td>\n",
       "    </tr>\n",
       "    <tr>\n",
       "      <th>151</th>\n",
       "      <td>England</td>\n",
       "      <td>E92000001</td>\n",
       "      <td>2021.0</td>\n",
       "      <td>12</td>\n",
       "      <td>Q4</td>\n",
       "      <td>Thu</td>\n",
       "      <td>Yes</td>\n",
       "      <td>29980.0</td>\n",
       "      <td>39323.0</td>\n",
       "      <td>493033.0</td>\n",
       "    </tr>\n",
       "    <tr>\n",
       "      <th>158</th>\n",
       "      <td>England</td>\n",
       "      <td>E92000001</td>\n",
       "      <td>2021.0</td>\n",
       "      <td>12</td>\n",
       "      <td>Q4</td>\n",
       "      <td>Thu</td>\n",
       "      <td>Yes</td>\n",
       "      <td>29554.0</td>\n",
       "      <td>37626.0</td>\n",
       "      <td>739867.0</td>\n",
       "    </tr>\n",
       "    <tr>\n",
       "      <th>165</th>\n",
       "      <td>England</td>\n",
       "      <td>E92000001</td>\n",
       "      <td>2021.0</td>\n",
       "      <td>12</td>\n",
       "      <td>Q4</td>\n",
       "      <td>Thu</td>\n",
       "      <td>Yes</td>\n",
       "      <td>20751.0</td>\n",
       "      <td>29840.0</td>\n",
       "      <td>396278.0</td>\n",
       "    </tr>\n",
       "    <tr>\n",
       "      <th>172</th>\n",
       "      <td>England</td>\n",
       "      <td>E92000001</td>\n",
       "      <td>2021.0</td>\n",
       "      <td>12</td>\n",
       "      <td>Q4</td>\n",
       "      <td>Thu</td>\n",
       "      <td>Yes</td>\n",
       "      <td>22731.0</td>\n",
       "      <td>26919.0</td>\n",
       "      <td>353104.0</td>\n",
       "    </tr>\n",
       "    <tr>\n",
       "      <th>179</th>\n",
       "      <td>England</td>\n",
       "      <td>E92000001</td>\n",
       "      <td>2021.0</td>\n",
       "      <td>11</td>\n",
       "      <td>Q4</td>\n",
       "      <td>Thu</td>\n",
       "      <td>Yes</td>\n",
       "      <td>20677.0</td>\n",
       "      <td>19615.0</td>\n",
       "      <td>334749.0</td>\n",
       "    </tr>\n",
       "    <tr>\n",
       "      <th>186</th>\n",
       "      <td>England</td>\n",
       "      <td>E92000001</td>\n",
       "      <td>2021.0</td>\n",
       "      <td>11</td>\n",
       "      <td>Q4</td>\n",
       "      <td>Thu</td>\n",
       "      <td>Yes</td>\n",
       "      <td>24034.0</td>\n",
       "      <td>17429.0</td>\n",
       "      <td>318203.0</td>\n",
       "    </tr>\n",
       "    <tr>\n",
       "      <th>193</th>\n",
       "      <td>England</td>\n",
       "      <td>E92000001</td>\n",
       "      <td>2021.0</td>\n",
       "      <td>11</td>\n",
       "      <td>Q4</td>\n",
       "      <td>Thu</td>\n",
       "      <td>Yes</td>\n",
       "      <td>34640.0</td>\n",
       "      <td>19560.0</td>\n",
       "      <td>305139.0</td>\n",
       "    </tr>\n",
       "    <tr>\n",
       "      <th>200</th>\n",
       "      <td>England</td>\n",
       "      <td>E92000001</td>\n",
       "      <td>2021.0</td>\n",
       "      <td>11</td>\n",
       "      <td>Q4</td>\n",
       "      <td>Thu</td>\n",
       "      <td>Yes</td>\n",
       "      <td>40075.0</td>\n",
       "      <td>17167.0</td>\n",
       "      <td>274443.0</td>\n",
       "    </tr>\n",
       "    <tr>\n",
       "      <th>207</th>\n",
       "      <td>England</td>\n",
       "      <td>E92000001</td>\n",
       "      <td>2021.0</td>\n",
       "      <td>10</td>\n",
       "      <td>Q4</td>\n",
       "      <td>Thu</td>\n",
       "      <td>Yes</td>\n",
       "      <td>39397.0</td>\n",
       "      <td>19586.0</td>\n",
       "      <td>247995.0</td>\n",
       "    </tr>\n",
       "    <tr>\n",
       "      <th>214</th>\n",
       "      <td>England</td>\n",
       "      <td>E92000001</td>\n",
       "      <td>2021.0</td>\n",
       "      <td>10</td>\n",
       "      <td>Q4</td>\n",
       "      <td>Thu</td>\n",
       "      <td>Yes</td>\n",
       "      <td>44558.0</td>\n",
       "      <td>22027.0</td>\n",
       "      <td>255406.0</td>\n",
       "    </tr>\n",
       "    <tr>\n",
       "      <th>221</th>\n",
       "      <td>England</td>\n",
       "      <td>E92000001</td>\n",
       "      <td>2021.0</td>\n",
       "      <td>10</td>\n",
       "      <td>Q4</td>\n",
       "      <td>Thu</td>\n",
       "      <td>Yes</td>\n",
       "      <td>38185.0</td>\n",
       "      <td>23489.0</td>\n",
       "      <td>214287.0</td>\n",
       "    </tr>\n",
       "    <tr>\n",
       "      <th>228</th>\n",
       "      <td>England</td>\n",
       "      <td>E92000001</td>\n",
       "      <td>2021.0</td>\n",
       "      <td>10</td>\n",
       "      <td>Q4</td>\n",
       "      <td>Thu</td>\n",
       "      <td>Yes</td>\n",
       "      <td>25319.0</td>\n",
       "      <td>24208.0</td>\n",
       "      <td>176054.0</td>\n",
       "    </tr>\n",
       "  </tbody>\n",
       "</table>\n",
       "</div>"
      ],
      "text/plain": [
       "    areaName   areaCode    year  month Quarter  day WorkingDay  FirstDose  \\\n",
       "4    England  E92000001  2022.0      5      Q2  Thu        Yes     8439.0   \n",
       "11   England  E92000001  2022.0      5      Q2  Thu        Yes     6829.0   \n",
       "18   England  E92000001  2022.0      5      Q2  Thu        Yes     7539.0   \n",
       "25   England  E92000001  2022.0      4      Q2  Thu        Yes     9042.0   \n",
       "32   England  E92000001  2022.0      4      Q2  Thu        Yes    15770.0   \n",
       "39   England  E92000001  2022.0      4      Q2  Thu        Yes    20906.0   \n",
       "46   England  E92000001  2022.0      4      Q2  Thu        Yes     8963.0   \n",
       "53   England  E92000001  2022.0      3      Q1  Thu        Yes     3530.0   \n",
       "60   England  E92000001  2022.0      3      Q1  Thu        Yes     3462.0   \n",
       "67   England  E92000001  2022.0      3      Q1  Thu        Yes     3358.0   \n",
       "74   England  E92000001  2022.0      3      Q1  Thu        Yes     4116.0   \n",
       "81   England  E92000001  2022.0      3      Q1  Thu        Yes     5760.0   \n",
       "88   England  E92000001  2022.0      2      Q1  Thu        Yes     7066.0   \n",
       "95   England  E92000001  2022.0      2      Q1  Thu        Yes     8110.0   \n",
       "102  England  E92000001  2022.0      2      Q1  Thu        Yes     9989.0   \n",
       "109  England  E92000001  2022.0      2      Q1  Thu        Yes    11780.0   \n",
       "116  England  E92000001  2022.0      1      Q1  Thu        Yes    13989.0   \n",
       "123  England  E92000001  2022.0      1      Q1  Thu        Yes    15285.0   \n",
       "130  England  E92000001  2022.0      1      Q1  Thu        Yes    18101.0   \n",
       "137  England  E92000001  2022.0      1      Q1  Thu        Yes    20102.0   \n",
       "144  England  E92000001  2021.0     12      Q4  Thu        Yes    30432.0   \n",
       "151  England  E92000001  2021.0     12      Q4  Thu        Yes    29980.0   \n",
       "158  England  E92000001  2021.0     12      Q4  Thu        Yes    29554.0   \n",
       "165  England  E92000001  2021.0     12      Q4  Thu        Yes    20751.0   \n",
       "172  England  E92000001  2021.0     12      Q4  Thu        Yes    22731.0   \n",
       "179  England  E92000001  2021.0     11      Q4  Thu        Yes    20677.0   \n",
       "186  England  E92000001  2021.0     11      Q4  Thu        Yes    24034.0   \n",
       "193  England  E92000001  2021.0     11      Q4  Thu        Yes    34640.0   \n",
       "200  England  E92000001  2021.0     11      Q4  Thu        Yes    40075.0   \n",
       "207  England  E92000001  2021.0     10      Q4  Thu        Yes    39397.0   \n",
       "214  England  E92000001  2021.0     10      Q4  Thu        Yes    44558.0   \n",
       "221  England  E92000001  2021.0     10      Q4  Thu        Yes    38185.0   \n",
       "228  England  E92000001  2021.0     10      Q4  Thu        Yes    25319.0   \n",
       "\n",
       "     SecondDose  ThirdDose  \n",
       "4        6968.0    11701.0  \n",
       "11       6541.0    11794.0  \n",
       "18       6703.0    12546.0  \n",
       "25       7014.0    13136.0  \n",
       "32       9201.0    13812.0  \n",
       "39      11444.0    15788.0  \n",
       "46       9272.0    13339.0  \n",
       "53      10881.0    13692.0  \n",
       "60      10559.0    13816.0  \n",
       "67      12310.0    14950.0  \n",
       "74      12646.0    16212.0  \n",
       "81      16370.0    25684.0  \n",
       "88      14301.0    19624.0  \n",
       "95      19082.0    24539.0  \n",
       "102     23910.0    24703.0  \n",
       "109     24026.0    29975.0  \n",
       "116     26326.0    42450.0  \n",
       "123     27069.0    49087.0  \n",
       "130     26550.0    87221.0  \n",
       "137     26799.0   188716.0  \n",
       "144     39755.0   320532.0  \n",
       "151     39323.0   493033.0  \n",
       "158     37626.0   739867.0  \n",
       "165     29840.0   396278.0  \n",
       "172     26919.0   353104.0  \n",
       "179     19615.0   334749.0  \n",
       "186     17429.0   318203.0  \n",
       "193     19560.0   305139.0  \n",
       "200     17167.0   274443.0  \n",
       "207     19586.0   247995.0  \n",
       "214     22027.0   255406.0  \n",
       "221     23489.0   214287.0  \n",
       "228     24208.0   176054.0  "
      ]
     },
     "execution_count": 45,
     "metadata": {},
     "output_type": "execute_result"
    }
   ],
   "source": [
    "data.loc[(data['areaName'] == 'England') & (data['day'] == 'Thu')]"
   ]
  },
  {
   "cell_type": "code",
   "execution_count": 46,
   "id": "367159e0",
   "metadata": {},
   "outputs": [
    {
     "data": {
      "text/html": [
       "<div>\n",
       "<style scoped>\n",
       "    .dataframe tbody tr th:only-of-type {\n",
       "        vertical-align: middle;\n",
       "    }\n",
       "\n",
       "    .dataframe tbody tr th {\n",
       "        vertical-align: top;\n",
       "    }\n",
       "\n",
       "    .dataframe thead th {\n",
       "        text-align: right;\n",
       "    }\n",
       "</style>\n",
       "<table border=\"1\" class=\"dataframe\">\n",
       "  <thead>\n",
       "    <tr style=\"text-align: right;\">\n",
       "      <th></th>\n",
       "      <th>FirstDose</th>\n",
       "      <th>SecondDose</th>\n",
       "      <th>ThirdDose</th>\n",
       "    </tr>\n",
       "  </thead>\n",
       "  <tbody>\n",
       "    <tr>\n",
       "      <th>count</th>\n",
       "      <td>33.000000</td>\n",
       "      <td>33.000000</td>\n",
       "      <td>33.000000</td>\n",
       "    </tr>\n",
       "    <tr>\n",
       "      <th>mean</th>\n",
       "      <td>18256.636364</td>\n",
       "      <td>19530.787879</td>\n",
       "      <td>153693.181818</td>\n",
       "    </tr>\n",
       "    <tr>\n",
       "      <th>std</th>\n",
       "      <td>12142.472413</td>\n",
       "      <td>9362.227973</td>\n",
       "      <td>179712.887273</td>\n",
       "    </tr>\n",
       "    <tr>\n",
       "      <th>min</th>\n",
       "      <td>3358.000000</td>\n",
       "      <td>6541.000000</td>\n",
       "      <td>11701.000000</td>\n",
       "    </tr>\n",
       "    <tr>\n",
       "      <th>25%</th>\n",
       "      <td>8110.000000</td>\n",
       "      <td>11444.000000</td>\n",
       "      <td>14950.000000</td>\n",
       "    </tr>\n",
       "    <tr>\n",
       "      <th>50%</th>\n",
       "      <td>15770.000000</td>\n",
       "      <td>19560.000000</td>\n",
       "      <td>42450.000000</td>\n",
       "    </tr>\n",
       "    <tr>\n",
       "      <th>75%</th>\n",
       "      <td>25319.000000</td>\n",
       "      <td>26326.000000</td>\n",
       "      <td>274443.000000</td>\n",
       "    </tr>\n",
       "    <tr>\n",
       "      <th>max</th>\n",
       "      <td>44558.000000</td>\n",
       "      <td>39755.000000</td>\n",
       "      <td>739867.000000</td>\n",
       "    </tr>\n",
       "  </tbody>\n",
       "</table>\n",
       "</div>"
      ],
      "text/plain": [
       "          FirstDose    SecondDose      ThirdDose\n",
       "count     33.000000     33.000000      33.000000\n",
       "mean   18256.636364  19530.787879  153693.181818\n",
       "std    12142.472413   9362.227973  179712.887273\n",
       "min     3358.000000   6541.000000   11701.000000\n",
       "25%     8110.000000  11444.000000   14950.000000\n",
       "50%    15770.000000  19560.000000   42450.000000\n",
       "75%    25319.000000  26326.000000  274443.000000\n",
       "max    44558.000000  39755.000000  739867.000000"
      ]
     },
     "execution_count": 46,
     "metadata": {},
     "output_type": "execute_result"
    }
   ],
   "source": [
    "subset = data.loc[(data['areaName'] == 'England') & (data['day'] == 'Thu')]\n",
    "subset[['FirstDose', 'SecondDose', 'ThirdDose']].describe()"
   ]
  },
  {
   "cell_type": "markdown",
   "id": "ef3396ca",
   "metadata": {},
   "source": [
    "### Q7  Conduct a statistical test of the significance of the difference between the means of two subsets of the data and interpret the results."
   ]
  },
  {
   "cell_type": "code",
   "execution_count": 47,
   "id": "e06760c4",
   "metadata": {},
   "outputs": [],
   "source": [
    "## use t-test to compare the mean of two group"
   ]
  },
  {
   "cell_type": "code",
   "execution_count": 48,
   "id": "a889a498",
   "metadata": {},
   "outputs": [],
   "source": [
    "# will compare the mean number of first doses administered in the Northern Ireland region to the\n",
    "# mean number of first doses administered in the Wales region."
   ]
  },
  {
   "cell_type": "code",
   "execution_count": 49,
   "id": "c5102e38",
   "metadata": {},
   "outputs": [],
   "source": [
    "# we will extract the relevant data from the dataset and create two subsets for the north irland and Wales regions:"
   ]
  },
  {
   "cell_type": "code",
   "execution_count": 50,
   "id": "cc1a67b0",
   "metadata": {},
   "outputs": [
    {
     "data": {
      "text/plain": [
       "England             235\n",
       "Northern Ireland    233\n",
       "Scotland            218\n",
       "Wales               204\n",
       "Name: areaName, dtype: int64"
      ]
     },
     "execution_count": 50,
     "metadata": {},
     "output_type": "execute_result"
    }
   ],
   "source": [
    "data[\"areaName\"].value_counts()"
   ]
  },
  {
   "cell_type": "code",
   "execution_count": 51,
   "id": "1744c475",
   "metadata": {},
   "outputs": [],
   "source": [
    "# H0 The null hypothesis in this case is that the means of the two groups are equal,\n",
    "# H1 the alternative hypothesis is that they are not equal."
   ]
  },
  {
   "cell_type": "code",
   "execution_count": 52,
   "id": "59af16a3",
   "metadata": {},
   "outputs": [],
   "source": [
    "ni_subset = data[data[\"areaName\"] == \"Northern Ireland\"]\n",
    "w_subset = data[data[\"areaName\"] == \"Wales\"]\n",
    "\n",
    "ni_first_doses = ni_subset[\"FirstDose\"]\n",
    "w_first_doses = w_subset[\"FirstDose\"]\n"
   ]
  },
  {
   "cell_type": "code",
   "execution_count": 53,
   "id": "fa043047",
   "metadata": {},
   "outputs": [],
   "source": [
    "## mean and standard deviation of the two subsets"
   ]
  },
  {
   "cell_type": "code",
   "execution_count": 54,
   "id": "2363ded2",
   "metadata": {},
   "outputs": [],
   "source": [
    "ni_men = ni_first_doses.mean()\n",
    "ni_std = ni_first_doses.std()\n",
    "\n",
    "w_mean = w_first_doses.mean()\n",
    "w_std = w_first_doses.std()\n"
   ]
  },
  {
   "cell_type": "code",
   "execution_count": 80,
   "id": "ceee4003",
   "metadata": {},
   "outputs": [
    {
     "name": "stdout",
     "output_type": "stream",
     "text": [
      "t-value:  2.8942188127423734\n",
      "p-value:  0.003992205558702076\n"
     ]
    }
   ],
   "source": [
    "from scipy.stats import ttest_ind\n",
    "\n",
    "t, p = ttest_ind( w_first_doses, ni_first_doses)\n",
    "\n",
    "print(\"t-value: \", t)\n",
    "print(\"p-value: \", p)\n"
   ]
  },
  {
   "cell_type": "code",
   "execution_count": 56,
   "id": "eb03e202",
   "metadata": {},
   "outputs": [],
   "source": [
    "# we reject the null hypothesis and conclude that there is a significant difference in the average scores of the two groups."
   ]
  },
  {
   "cell_type": "markdown",
   "id": "2e897874",
   "metadata": {},
   "source": [
    "### Q8 Create one or more tables that group the data by a certain categorical variable and display summarized information for each group (e.g. the mean or sum within the group)."
   ]
  },
  {
   "cell_type": "code",
   "execution_count": 57,
   "id": "b5cf4882",
   "metadata": {},
   "outputs": [
    {
     "name": "stdout",
     "output_type": "stream",
     "text": [
      "                  FirstDose  SecondDose   ThirdDose\n",
      "areaName                                           \n",
      "England           3952496.0   4328370.0  32080017.0\n",
      "Northern Ireland   115116.0    133680.0   1121214.0\n",
      "Scotland           253443.0    344171.0   3267770.0\n",
      "Wales              135355.0    176744.0   1668993.0\n"
     ]
    }
   ],
   "source": [
    "# Group the data by areaName and calculate the sum of each variable within each group\n",
    "grouped = data.groupby(['areaName']).sum()\n",
    "\n",
    "# Create a table that shows the total number of people who received the first, second, and third dose of the vaccine in each region\n",
    "table = pd.DataFrame({'FirstDose': grouped['FirstDose'], 'SecondDose': grouped['SecondDose'], 'ThirdDose': grouped['ThirdDose']})\n",
    "print(table)\n"
   ]
  },
  {
   "cell_type": "code",
   "execution_count": 58,
   "id": "c8de9ae2",
   "metadata": {},
   "outputs": [],
   "source": [
    "# We can see that England has the highest number of people who received the first, second, and third dose of the vaccine, followed by the Scotland, the Wales and North Ireland"
   ]
  },
  {
   "cell_type": "code",
   "execution_count": 59,
   "id": "5443f992",
   "metadata": {},
   "outputs": [
    {
     "data": {
      "image/png": "[encoded data removed]",
      "text/plain": [
       "<Figure size 432x288 with 2 Axes>"
      ]
     },
     "metadata": {
      "needs_background": "light"
     },
     "output_type": "display_data"
    }
   ],
   "source": [
    "# Compute the correlation matrix\n",
    "corr_matrix = data.corr()\n",
    "\n",
    "# Plot the correlation matrix\n",
    "sns.heatmap(corr_matrix, annot=True, cmap=\"YlGnBu\")\n",
    "plt.title(\"Correlation Matrix\")\n",
    "plt.show()\n"
   ]
  },
  {
   "cell_type": "markdown",
   "id": "33b8adf9",
   "metadata": {},
   "source": [
    "### Q10 Implement a linear regression model and interpret its outputs."
   ]
  },
  {
   "cell_type": "code",
   "execution_count": 60,
   "id": "19ca1c5a",
   "metadata": {},
   "outputs": [],
   "source": [
    "# select the features and target variable"
   ]
  },
  {
   "cell_type": "code",
   "execution_count": 61,
   "id": "e3312427",
   "metadata": {},
   "outputs": [],
   "source": [
    "X = data[['FirstDose']]\n",
    "y = data[['SecondDose']]"
   ]
  },
  {
   "cell_type": "code",
   "execution_count": 62,
   "id": "740ddf3f",
   "metadata": {},
   "outputs": [],
   "source": [
    "from sklearn.linear_model import LinearRegression\n",
    "from sklearn.model_selection import train_test_split"
   ]
  },
  {
   "cell_type": "code",
   "execution_count": 63,
   "id": "961b57d1",
   "metadata": {},
   "outputs": [],
   "source": [
    "X_train, X_test, y_train, y_test = train_test_split(X, y, test_size=0.2, random_state=0)"
   ]
  },
  {
   "cell_type": "code",
   "execution_count": 64,
   "id": "fdd83265",
   "metadata": {},
   "outputs": [],
   "source": [
    "# Model selection and Fit"
   ]
  },
  {
   "cell_type": "code",
   "execution_count": 65,
   "id": "7d07d51e",
   "metadata": {},
   "outputs": [
    {
     "data": {
      "text/html": [
       "<style>#sk-container-id-1 {color: black;background-color: white;}#sk-container-id-1 pre{padding: 0;}#sk-container-id-1 div.sk-toggleable {background-color: white;}#sk-container-id-1 label.sk-toggleable__label {cursor: pointer;display: block;width: 100%;margin-bottom: 0;padding: 0.3em;box-sizing: border-box;text-align: center;}#sk-container-id-1 label.sk-toggleable__label-arrow:before {content: \"▸\";float: left;margin-right: 0.25em;color: #696969;}#sk-container-id-1 label.sk-toggleable__label-arrow:hover:before {color: black;}#sk-container-id-1 div.sk-estimator:hover label.sk-toggleable__label-arrow:before {color: black;}#sk-container-id-1 div.sk-toggleable__content {max-height: 0;max-width: 0;overflow: hidden;text-align: left;background-color: #f0f8ff;}#sk-container-id-1 div.sk-toggleable__content pre {margin: 0.2em;color: black;border-radius: 0.25em;background-color: #f0f8ff;}#sk-container-id-1 input.sk-toggleable__control:checked~div.sk-toggleable__content {max-height: 200px;max-width: 100%;overflow: auto;}#sk-container-id-1 input.sk-toggleable__control:checked~label.sk-toggleable__label-arrow:before {content: \"▾\";}#sk-container-id-1 div.sk-estimator input.sk-toggleable__control:checked~label.sk-toggleable__label {background-color: #d4ebff;}#sk-container-id-1 div.sk-label input.sk-toggleable__control:checked~label.sk-toggleable__label {background-color: #d4ebff;}#sk-container-id-1 input.sk-hidden--visually {border: 0;clip: rect(1px 1px 1px 1px);clip: rect(1px, 1px, 1px, 1px);height: 1px;margin: -1px;overflow: hidden;padding: 0;position: absolute;width: 1px;}#sk-container-id-1 div.sk-estimator {font-family: monospace;background-color: #f0f8ff;border: 1px dotted black;border-radius: 0.25em;box-sizing: border-box;margin-bottom: 0.5em;}#sk-container-id-1 div.sk-estimator:hover {background-color: #d4ebff;}#sk-container-id-1 div.sk-parallel-item::after {content: \"\";width: 100%;border-bottom: 1px solid gray;flex-grow: 1;}#sk-container-id-1 div.sk-label:hover label.sk-toggleable__label {background-color: #d4ebff;}#sk-container-id-1 div.sk-serial::before {content: \"\";position: absolute;border-left: 1px solid gray;box-sizing: border-box;top: 0;bottom: 0;left: 50%;z-index: 0;}#sk-container-id-1 div.sk-serial {display: flex;flex-direction: column;align-items: center;background-color: white;padding-right: 0.2em;padding-left: 0.2em;position: relative;}#sk-container-id-1 div.sk-item {position: relative;z-index: 1;}#sk-container-id-1 div.sk-parallel {display: flex;align-items: stretch;justify-content: center;background-color: white;position: relative;}#sk-container-id-1 div.sk-item::before, #sk-container-id-1 div.sk-parallel-item::before {content: \"\";position: absolute;border-left: 1px solid gray;box-sizing: border-box;top: 0;bottom: 0;left: 50%;z-index: -1;}#sk-container-id-1 div.sk-parallel-item {display: flex;flex-direction: column;z-index: 1;position: relative;background-color: white;}#sk-container-id-1 div.sk-parallel-item:first-child::after {align-self: flex-end;width: 50%;}#sk-container-id-1 div.sk-parallel-item:last-child::after {align-self: flex-start;width: 50%;}#sk-container-id-1 div.sk-parallel-item:only-child::after {width: 0;}#sk-container-id-1 div.sk-dashed-wrapped {border: 1px dashed gray;margin: 0 0.4em 0.5em 0.4em;box-sizing: border-box;padding-bottom: 0.4em;background-color: white;}#sk-container-id-1 div.sk-label label {font-family: monospace;font-weight: bold;display: inline-block;line-height: 1.2em;}#sk-container-id-1 div.sk-label-container {text-align: center;}#sk-container-id-1 div.sk-container {/* jupyter's `normalize.less` sets `[hidden] { display: none; }` but bootstrap.min.css set `[hidden] { display: none !important; }` so we also need the `!important` here to be able to override the default hidden behavior on the sphinx rendered scikit-learn.org. See: https://github.com/scikit-learn/scikit-learn/issues/21755 */display: inline-block !important;position: relative;}#sk-container-id-1 div.sk-text-repr-fallback {display: none;}</style><div id=\"sk-container-id-1\" class=\"sk-top-container\"><div class=\"sk-text-repr-fallback\"><pre>LinearRegression()</pre><b>In a Jupyter environment, please rerun this cell to show the HTML representation or trust the notebook. <br />On GitHub, the HTML representation is unable to render, please try loading this page with nbviewer.org.</b></div><div class=\"sk-container\" hidden><div class=\"sk-item\"><div class=\"sk-estimator sk-toggleable\"><input class=\"sk-toggleable__control sk-hidden--visually\" id=\"sk-estimator-id-1\" type=\"checkbox\" checked><label for=\"sk-estimator-id-1\" class=\"sk-toggleable__label sk-toggleable__label-arrow\">LinearRegression</label><div class=\"sk-toggleable__content\"><pre>LinearRegression()</pre></div></div></div></div></div>"
      ],
      "text/plain": [
       "LinearRegression()"
      ]
     },
     "execution_count": 65,
     "metadata": {},
     "output_type": "execute_result"
    }
   ],
   "source": [
    "# instantiate the linear regression model\n",
    "model = LinearRegression()\n",
    "# fit the model to the data\n",
    "model.fit(X_train, y_train)"
   ]
  },
  {
   "cell_type": "code",
   "execution_count": 66,
   "id": "30196b5c",
   "metadata": {},
   "outputs": [],
   "source": [
    "# print the coefficients and intercept"
   ]
  },
  {
   "cell_type": "code",
   "execution_count": 67,
   "id": "f6420842",
   "metadata": {},
   "outputs": [],
   "source": [
    "y_pred = model.predict(X_test)"
   ]
  },
  {
   "cell_type": "code",
   "execution_count": 68,
   "id": "20b812c4",
   "metadata": {},
   "outputs": [
    {
     "data": {
      "image/png": "[encoded data removed]",
      "text/plain": [
       "<Figure size 432x288 with 1 Axes>"
      ]
     },
     "metadata": {
      "needs_background": "light"
     },
     "output_type": "display_data"
    }
   ],
   "source": [
    "# Plot the regression line\n",
    "plt.scatter(X_test, y_test, color='blue')\n",
    "plt.plot(X_test, y_pred, color='red', linewidth=2)\n",
    "plt.xlabel('First Dose')\n",
    "plt.ylabel('Second Dose')\n",
    "plt.title('Linear Regression: First Dose vs. Second Dose')\n",
    "plt.show()"
   ]
  },
  {
   "cell_type": "code",
   "execution_count": 69,
   "id": "fb232bcf",
   "metadata": {},
   "outputs": [],
   "source": [
    "# print the coefficients and intercept\n"
   ]
  },
  {
   "cell_type": "code",
   "execution_count": 70,
   "id": "1619456e",
   "metadata": {},
   "outputs": [
    {
     "name": "stdout",
     "output_type": "stream",
     "text": [
      "Coefficients: [[0.8129261]]\n",
      "Intercept: [1761.41605503]\n"
     ]
    }
   ],
   "source": [
    "print('Coefficients:', model.coef_)\n",
    "print('Intercept:', model.intercept_)\n"
   ]
  },
  {
   "cell_type": "code",
   "execution_count": 71,
   "id": "4774c32a",
   "metadata": {},
   "outputs": [],
   "source": [
    " #the coefficient is the slope of the regression line, which represents the change in the dependent variable (y) for a one-unit change in the independent variable (x). \n",
    "# In other words, it shows the relationship between the two variables.\n",
    " # It represents the starting point of the regression line, where the line crosses the y-axis."
   ]
  },
  {
   "cell_type": "code",
   "execution_count": 72,
   "id": "4994eddb",
   "metadata": {},
   "outputs": [],
   "source": [
    "#  the coefficient is 0.8129261, which means that for every unit increase in the first dose, \n",
    "# the model predicts an increase of 0.8129261 units in the second dose\n",
    "# The intercept is 1761.41605503, which represents the predicted value of the second dose when the first dose is equal to 0."
   ]
  },
  {
   "cell_type": "code",
   "execution_count": null,
   "id": "bb0cfa4d",
   "metadata": {},
   "outputs": [],
   "source": []
  },
  {
   "cell_type": "code",
   "execution_count": 73,
   "id": "7792595a",
   "metadata": {},
   "outputs": [
    {
     "name": "stdout",
     "output_type": "stream",
     "text": [
      "Predictions: [[4200.19434998]]\n"
     ]
    },
    {
     "name": "stderr",
     "output_type": "stream",
     "text": [
      "C:\\Users\\User\\AppData\\Roaming\\Python\\Python38\\site-packages\\sklearn\\base.py:450: UserWarning: X does not have valid feature names, but LinearRegression was fitted with feature names\n",
      "  warnings.warn(\n"
     ]
    }
   ],
   "source": [
    "\n",
    "# make predictions on new data\n",
    "new_data = [[3000]]\n",
    "predictions = model.predict(new_data)\n",
    "print('Predictions:', predictions)"
   ]
  },
  {
   "cell_type": "code",
   "execution_count": 74,
   "id": "96ce319c",
   "metadata": {},
   "outputs": [],
   "source": [
    "# Model evaluation"
   ]
  },
  {
   "cell_type": "code",
   "execution_count": 75,
   "id": "5a527427",
   "metadata": {},
   "outputs": [],
   "source": [
    "from sklearn.metrics import mean_squared_error, r2_score"
   ]
  },
  {
   "cell_type": "code",
   "execution_count": 76,
   "id": "111f412f",
   "metadata": {},
   "outputs": [
    {
     "name": "stdout",
     "output_type": "stream",
     "text": [
      "Mean squared error: 19674254.621087052\n",
      "Root mean squared error: 4435.567001081942\n",
      "R-squared: 0.6709463345420548\n"
     ]
    }
   ],
   "source": [
    "# Evaluate the model using MSE, RMSE, and R-squared\n",
    "mse = mean_squared_error(y_test, y_pred)\n",
    "rmse = np.sqrt(mse)\n",
    "r2 = r2_score(y_test, y_pred)\n",
    "\n",
    "print(\"Mean squared error:\", mse)\n",
    "print(\"Root mean squared error:\", rmse)\n",
    "print(\"R-squared:\", r2)"
   ]
  },
  {
   "cell_type": "code",
   "execution_count": 77,
   "id": "34c6023d",
   "metadata": {},
   "outputs": [],
   "source": [
    "# MSE and RMSE are used to measure the difference between the predicted and actual values."
   ]
  },
  {
   "cell_type": "code",
   "execution_count": 78,
   "id": "5d7b8ddc",
   "metadata": {},
   "outputs": [],
   "source": [
    "# In this case, the MSE is 19674254.621087052 and the RMSE is 4435.567001081942. \n",
    "# These values mean that on average, \n",
    "# The predicted values differ from the actual values by about 4435.57."
   ]
  },
  {
   "cell_type": "code",
   "execution_count": 79,
   "id": "5bee0f70",
   "metadata": {},
   "outputs": [],
   "source": [
    "# R-squared is a measure of how well the linear regression model fits the data.\n",
    "# The R-squared value ranges from 0 to 1, with higher values indicating a better fit.\n",
    "# In this case, the R-squared value is 0.6709463345420548,"
   ]
  }
 ],
 "metadata": {
  "kernelspec": {
   "display_name": "Python 3",
   "language": "python",
   "name": "python3"
  },
  "language_info": {
   "codemirror_mode": {
    "name": "ipython",
    "version": 3
   },
   "file_extension": ".py",
   "mimetype": "text/x-python",
   "name": "python",
   "nbconvert_exporter": "python",
   "pygments_lexer": "ipython3",
   "version": "3.8.8"
  }
 },
 "nbformat": 4,
 "nbformat_minor": 5
}
